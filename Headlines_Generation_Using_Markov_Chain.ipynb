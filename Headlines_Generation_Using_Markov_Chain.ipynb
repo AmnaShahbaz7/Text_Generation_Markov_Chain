{
  "nbformat": 4,
  "nbformat_minor": 0,
  "metadata": {
    "colab": {
      "provenance": [],
      "authorship_tag": "ABX9TyNpafAHUR33vPdMoYsGENj4",
      "include_colab_link": true
    },
    "kernelspec": {
      "name": "python3",
      "display_name": "Python 3"
    },
    "language_info": {
      "name": "python"
    }
  },
  "cells": [
    {
      "cell_type": "markdown",
      "metadata": {
        "id": "view-in-github",
        "colab_type": "text"
      },
      "source": [
        "<a href=\"https://colab.research.google.com/github/AmnaShahbaz7/Text_Generation_Markov_Chain/blob/main/Headlines_Generation_Using_Markov_Chain.ipynb\" target=\"_parent\"><img src=\"https://colab.research.google.com/assets/colab-badge.svg\" alt=\"Open In Colab\"/></a>"
      ]
    },
    {
      "cell_type": "markdown",
      "source": [
        "# Markov chain generation of meaningful random headlines\n",
        "## Advance Topics - Applied Data Science\n",
        "\n",
        "---\n",
        "\n",
        "\n",
        "### Supervised by Em. O. Univ.-Prof. Dr. Jürgen Pilz\n",
        "#### Author: Amna Shahbaz"
      ],
      "metadata": {
        "id": "sAeNcA1-CHIQ"
      }
    },
    {
      "cell_type": "markdown",
      "source": [
        "## Installation of markovify Python library:"
      ],
      "metadata": {
        "id": "UBxNjUUAEnqJ"
      }
    },
    {
      "cell_type": "code",
      "source": [
        "!pip install markovify"
      ],
      "metadata": {
        "colab": {
          "base_uri": "https://localhost:8080/"
        },
        "id": "owtLeVDzCHnD",
        "outputId": "17b3ca0e-ba51-4ae2-d8ba-959f3cf3bdfb"
      },
      "execution_count": 1,
      "outputs": [
        {
          "output_type": "stream",
          "name": "stdout",
          "text": [
            "Looking in indexes: https://pypi.org/simple, https://us-python.pkg.dev/colab-wheels/public/simple/\n",
            "Collecting markovify\n",
            "  Downloading markovify-0.9.4.tar.gz (27 kB)\n",
            "  Preparing metadata (setup.py) ... \u001b[?25l\u001b[?25hdone\n",
            "Collecting unidecode\n",
            "  Downloading Unidecode-1.3.6-py3-none-any.whl (235 kB)\n",
            "\u001b[2K     \u001b[90m━━━━━━━━━━━━━━━━━━━━━━━━━━━━━━━━━━━━━━━\u001b[0m \u001b[32m235.9/235.9 KB\u001b[0m \u001b[31m5.2 MB/s\u001b[0m eta \u001b[36m0:00:00\u001b[0m\n",
            "\u001b[?25hBuilding wheels for collected packages: markovify\n",
            "  Building wheel for markovify (setup.py) ... \u001b[?25l\u001b[?25hdone\n",
            "  Created wheel for markovify: filename=markovify-0.9.4-py3-none-any.whl size=18627 sha256=65b5c033807aeb40f26cdea76285b01af763b74d1f76c3520eb1d27581813a86\n",
            "  Stored in directory: /root/.cache/pip/wheels/aa/9d/bb/96461cbfde2120f3612c7c2af202976d46542735a2cd8b00f8\n",
            "Successfully built markovify\n",
            "Installing collected packages: unidecode, markovify\n",
            "Successfully installed markovify-0.9.4 unidecode-1.3.6\n"
          ]
        }
      ]
    },
    {
      "cell_type": "markdown",
      "source": [
        "## Loaded needed libraries:"
      ],
      "metadata": {
        "id": "KdtGZojKE3Fh"
      }
    },
    {
      "cell_type": "code",
      "execution_count": 2,
      "metadata": {
        "id": "nHlXR5iXBw-u"
      },
      "outputs": [],
      "source": [
        "import numpy as np\n",
        "import pandas as pd\n",
        "import markovify\n",
        "import random"
      ]
    },
    {
      "cell_type": "markdown",
      "source": [
        "## Accessing the data from google drive:\n",
        "#### In this project the collection of 1213004 headlines from 2003-02-19 till  2021-12-31, is used in this project, it is an open-source data from ABC News published by Rohit Kulkarni in Kaggle."
      ],
      "metadata": {
        "id": "yiRAw9kUE-k4"
      }
    },
    {
      "cell_type": "code",
      "source": [
        "from google.colab import drive\n",
        "drive.mount('/content/drive')"
      ],
      "metadata": {
        "colab": {
          "base_uri": "https://localhost:8080/"
        },
        "id": "Rww5zPrdCZhs",
        "outputId": "bde15928-d5c4-4268-d67b-d7301e4ad913"
      },
      "execution_count": 3,
      "outputs": [
        {
          "output_type": "stream",
          "name": "stdout",
          "text": [
            "Mounted at /content/drive\n"
          ]
        }
      ]
    },
    {
      "cell_type": "markdown",
      "source": [
        "## Defining the data path:"
      ],
      "metadata": {
        "id": "ICSHGQIgGJw4"
      }
    },
    {
      "cell_type": "code",
      "source": [
        "path=\"/content/drive/MyDrive/abcnews-date-text.csv\""
      ],
      "metadata": {
        "id": "1qAbSBIvCffm"
      },
      "execution_count": 4,
      "outputs": []
    },
    {
      "cell_type": "markdown",
      "source": [
        "## Headlines samples first 10 rows:"
      ],
      "metadata": {
        "id": "2_8G0Mo9GQDo"
      }
    },
    {
      "cell_type": "code",
      "source": [
        "inp = pd.read_csv(path)\n",
        "inp.head(10)"
      ],
      "metadata": {
        "colab": {
          "base_uri": "https://localhost:8080/",
          "height": 363
        },
        "id": "CJF4lo28CBtl",
        "outputId": "1b234c50-30a5-4a15-eb4d-c39efd2a20a5"
      },
      "execution_count": 5,
      "outputs": [
        {
          "output_type": "execute_result",
          "data": {
            "text/plain": [
              "   publish_date                                      headline_text\n",
              "0      20030219  aba decides against community broadcasting lic...\n",
              "1      20030219     act fire witnesses must be aware of defamation\n",
              "2      20030219     a g calls for infrastructure protection summit\n",
              "3      20030219           air nz staff in aust strike for pay rise\n",
              "4      20030219      air nz strike to affect australian travellers\n",
              "5      20030219                  ambitious olsson wins triple jump\n",
              "6      20030219         antic delighted with record breaking barca\n",
              "7      20030219  aussie qualifier stosur wastes four memphis match\n",
              "8      20030219       aust addresses un security council over iraq\n",
              "9      20030219         australia is locked into war timetable opp"
            ],
            "text/html": [
              "\n",
              "  <div id=\"df-63274199-c569-4d97-af6a-68dcbc23b30f\">\n",
              "    <div class=\"colab-df-container\">\n",
              "      <div>\n",
              "<style scoped>\n",
              "    .dataframe tbody tr th:only-of-type {\n",
              "        vertical-align: middle;\n",
              "    }\n",
              "\n",
              "    .dataframe tbody tr th {\n",
              "        vertical-align: top;\n",
              "    }\n",
              "\n",
              "    .dataframe thead th {\n",
              "        text-align: right;\n",
              "    }\n",
              "</style>\n",
              "<table border=\"1\" class=\"dataframe\">\n",
              "  <thead>\n",
              "    <tr style=\"text-align: right;\">\n",
              "      <th></th>\n",
              "      <th>publish_date</th>\n",
              "      <th>headline_text</th>\n",
              "    </tr>\n",
              "  </thead>\n",
              "  <tbody>\n",
              "    <tr>\n",
              "      <th>0</th>\n",
              "      <td>20030219</td>\n",
              "      <td>aba decides against community broadcasting lic...</td>\n",
              "    </tr>\n",
              "    <tr>\n",
              "      <th>1</th>\n",
              "      <td>20030219</td>\n",
              "      <td>act fire witnesses must be aware of defamation</td>\n",
              "    </tr>\n",
              "    <tr>\n",
              "      <th>2</th>\n",
              "      <td>20030219</td>\n",
              "      <td>a g calls for infrastructure protection summit</td>\n",
              "    </tr>\n",
              "    <tr>\n",
              "      <th>3</th>\n",
              "      <td>20030219</td>\n",
              "      <td>air nz staff in aust strike for pay rise</td>\n",
              "    </tr>\n",
              "    <tr>\n",
              "      <th>4</th>\n",
              "      <td>20030219</td>\n",
              "      <td>air nz strike to affect australian travellers</td>\n",
              "    </tr>\n",
              "    <tr>\n",
              "      <th>5</th>\n",
              "      <td>20030219</td>\n",
              "      <td>ambitious olsson wins triple jump</td>\n",
              "    </tr>\n",
              "    <tr>\n",
              "      <th>6</th>\n",
              "      <td>20030219</td>\n",
              "      <td>antic delighted with record breaking barca</td>\n",
              "    </tr>\n",
              "    <tr>\n",
              "      <th>7</th>\n",
              "      <td>20030219</td>\n",
              "      <td>aussie qualifier stosur wastes four memphis match</td>\n",
              "    </tr>\n",
              "    <tr>\n",
              "      <th>8</th>\n",
              "      <td>20030219</td>\n",
              "      <td>aust addresses un security council over iraq</td>\n",
              "    </tr>\n",
              "    <tr>\n",
              "      <th>9</th>\n",
              "      <td>20030219</td>\n",
              "      <td>australia is locked into war timetable opp</td>\n",
              "    </tr>\n",
              "  </tbody>\n",
              "</table>\n",
              "</div>\n",
              "      <button class=\"colab-df-convert\" onclick=\"convertToInteractive('df-63274199-c569-4d97-af6a-68dcbc23b30f')\"\n",
              "              title=\"Convert this dataframe to an interactive table.\"\n",
              "              style=\"display:none;\">\n",
              "        \n",
              "  <svg xmlns=\"http://www.w3.org/2000/svg\" height=\"24px\"viewBox=\"0 0 24 24\"\n",
              "       width=\"24px\">\n",
              "    <path d=\"M0 0h24v24H0V0z\" fill=\"none\"/>\n",
              "    <path d=\"M18.56 5.44l.94 2.06.94-2.06 2.06-.94-2.06-.94-.94-2.06-.94 2.06-2.06.94zm-11 1L8.5 8.5l.94-2.06 2.06-.94-2.06-.94L8.5 2.5l-.94 2.06-2.06.94zm10 10l.94 2.06.94-2.06 2.06-.94-2.06-.94-.94-2.06-.94 2.06-2.06.94z\"/><path d=\"M17.41 7.96l-1.37-1.37c-.4-.4-.92-.59-1.43-.59-.52 0-1.04.2-1.43.59L10.3 9.45l-7.72 7.72c-.78.78-.78 2.05 0 2.83L4 21.41c.39.39.9.59 1.41.59.51 0 1.02-.2 1.41-.59l7.78-7.78 2.81-2.81c.8-.78.8-2.07 0-2.86zM5.41 20L4 18.59l7.72-7.72 1.47 1.35L5.41 20z\"/>\n",
              "  </svg>\n",
              "      </button>\n",
              "      \n",
              "  <style>\n",
              "    .colab-df-container {\n",
              "      display:flex;\n",
              "      flex-wrap:wrap;\n",
              "      gap: 12px;\n",
              "    }\n",
              "\n",
              "    .colab-df-convert {\n",
              "      background-color: #E8F0FE;\n",
              "      border: none;\n",
              "      border-radius: 50%;\n",
              "      cursor: pointer;\n",
              "      display: none;\n",
              "      fill: #1967D2;\n",
              "      height: 32px;\n",
              "      padding: 0 0 0 0;\n",
              "      width: 32px;\n",
              "    }\n",
              "\n",
              "    .colab-df-convert:hover {\n",
              "      background-color: #E2EBFA;\n",
              "      box-shadow: 0px 1px 2px rgba(60, 64, 67, 0.3), 0px 1px 3px 1px rgba(60, 64, 67, 0.15);\n",
              "      fill: #174EA6;\n",
              "    }\n",
              "\n",
              "    [theme=dark] .colab-df-convert {\n",
              "      background-color: #3B4455;\n",
              "      fill: #D2E3FC;\n",
              "    }\n",
              "\n",
              "    [theme=dark] .colab-df-convert:hover {\n",
              "      background-color: #434B5C;\n",
              "      box-shadow: 0px 1px 3px 1px rgba(0, 0, 0, 0.15);\n",
              "      filter: drop-shadow(0px 1px 2px rgba(0, 0, 0, 0.3));\n",
              "      fill: #FFFFFF;\n",
              "    }\n",
              "  </style>\n",
              "\n",
              "      <script>\n",
              "        const buttonEl =\n",
              "          document.querySelector('#df-63274199-c569-4d97-af6a-68dcbc23b30f button.colab-df-convert');\n",
              "        buttonEl.style.display =\n",
              "          google.colab.kernel.accessAllowed ? 'block' : 'none';\n",
              "\n",
              "        async function convertToInteractive(key) {\n",
              "          const element = document.querySelector('#df-63274199-c569-4d97-af6a-68dcbc23b30f');\n",
              "          const dataTable =\n",
              "            await google.colab.kernel.invokeFunction('convertToInteractive',\n",
              "                                                     [key], {});\n",
              "          if (!dataTable) return;\n",
              "\n",
              "          const docLinkHtml = 'Like what you see? Visit the ' +\n",
              "            '<a target=\"_blank\" href=https://colab.research.google.com/notebooks/data_table.ipynb>data table notebook</a>'\n",
              "            + ' to learn more about interactive tables.';\n",
              "          element.innerHTML = '';\n",
              "          dataTable['output_type'] = 'display_data';\n",
              "          await google.colab.output.renderOutput(dataTable, element);\n",
              "          const docLink = document.createElement('div');\n",
              "          docLink.innerHTML = docLinkHtml;\n",
              "          element.appendChild(docLink);\n",
              "        }\n",
              "      </script>\n",
              "    </div>\n",
              "  </div>\n",
              "  "
            ]
          },
          "metadata": {},
          "execution_count": 5
        }
      ]
    },
    {
      "cell_type": "markdown",
      "source": [
        "## Random sample headlines:"
      ],
      "metadata": {
        "id": "pVysxKpiGgRP"
      }
    },
    {
      "cell_type": "code",
      "source": [
        "inp.headline_text[random.sample(range(100), 10)]"
      ],
      "metadata": {
        "id": "WAs2nP2kCvvS",
        "colab": {
          "base_uri": "https://localhost:8080/"
        },
        "outputId": "c4bc02ee-1ace-4833-e57f-eb331109c4ee"
      },
      "execution_count": 6,
      "outputs": [
        {
          "output_type": "execute_result",
          "data": {
            "text/plain": [
              "42                dog mauls 18 month old toddler in nsw\n",
              "83           kelly not surprised ethanol confidence low\n",
              "46    expressions of interest sought to build livestock\n",
              "69       health minister backs organ and tissue storage\n",
              "14               big plan to boost paroo water supplies\n",
              "29      councillor to contest wollongong as independent\n",
              "76           iraq to pay for own rebuilding white house\n",
              "96           meeting to focus on broken hill water woes\n",
              "47           fed opp to re introduce national insurance\n",
              "80              jury to consider verdict in murder case\n",
              "Name: headline_text, dtype: object"
            ]
          },
          "metadata": {},
          "execution_count": 6
        }
      ]
    },
    {
      "cell_type": "markdown",
      "source": [
        "## Generating random headlines with Markov chain using 2 words defining a state in the headline:"
      ],
      "metadata": {
        "id": "BDpb4RUsR-54"
      }
    },
    {
      "cell_type": "code",
      "source": [
        "text_model2 = markovify.NewlineText(inp.headline_text, state_size = 2)"
      ],
      "metadata": {
        "id": "dzZ1BJ6rR2W_"
      },
      "execution_count": 7,
      "outputs": []
    },
    {
      "cell_type": "markdown",
      "source": [
        "## The generated headlines from first model:"
      ],
      "metadata": {
        "id": "mku-oAsfS6rQ"
      }
    },
    {
      "cell_type": "code",
      "source": [
        "for i in range(10):\n",
        "    print(text_model2.make_sentence())"
      ],
      "metadata": {
        "colab": {
          "base_uri": "https://localhost:8080/"
        },
        "id": "WWCDiPNrSHBZ",
        "outputId": "1c74c80e-d191-4533-9bd8-758f8ebc8b4d"
      },
      "execution_count": 8,
      "outputs": [
        {
          "output_type": "stream",
          "name": "stdout",
          "text": [
            "harvey lavishes praise on cherry evans patient to wear\n",
            "vietnam sentences 30 drug labs discovery leads to less water\n",
            "miners fear royalty scheme but quest\n",
            "land prices squeeze housing\n",
            "labor blasts closure of aboriginal\n",
            "dog owners fear for missing brothers\n",
            "renmark paringa council to help needy\n",
            "brunei marks 50 years old\n",
            "poor governance at root of extremism research\n",
            "coolangatta airport revamped to target us interests democrats\n"
          ]
        }
      ]
    },
    {
      "cell_type": "markdown",
      "source": [
        "## Generating random headlines with Markov chain using 2 words defining a state in the headline (second model in order to combine it with the first model):"
      ],
      "metadata": {
        "id": "QhkdPEx7TKKc"
      }
    },
    {
      "cell_type": "code",
      "source": [
        "text_model2_2 = markovify.NewlineText(inp.headline_text, state_size = 2)"
      ],
      "metadata": {
        "id": "CR1wfApNSG_3"
      },
      "execution_count": 9,
      "outputs": []
    },
    {
      "cell_type": "code",
      "source": [
        "for i in range(10):\n",
        "    print(text_model2_2.make_sentence())"
      ],
      "metadata": {
        "colab": {
          "base_uri": "https://localhost:8080/"
        },
        "id": "iOUaty6nSGpN",
        "outputId": "becbeaf4-7fc1-4461-8b78-3146f77ec1f2"
      },
      "execution_count": 10,
      "outputs": [
        {
          "output_type": "stream",
          "name": "stdout",
          "text": [
            "epa chairman mick palmer\n",
            "bio diversity study on mining banking gains\n",
            "shooting victim lucky to escape ban\n",
            "ludicrous to suggest lng hub plan\n",
            "prisoner dead crushed by teachers car\n",
            "australia accused of mohter's death\n",
            "31yo faces newcastle backlash\n",
            "lost prospector a cautionary tale for tourists\n",
            "disability royal commission into\n",
            "kirk douglas turns blogs into his own news updates has ushered in a\n"
          ]
        }
      ]
    },
    {
      "cell_type": "markdown",
      "source": [
        "## Combining first and second model which have 2 words defining a state:"
      ],
      "metadata": {
        "id": "J3JU8ZJ2T1W8"
      }
    },
    {
      "cell_type": "code",
      "source": [
        "model_combo = markovify.combine([ text_model2, text_model2_2 ], [ 1.5, 1 ])\n",
        "for i in range(10):\n",
        "    print(model_combo.make_sentence())"
      ],
      "metadata": {
        "colab": {
          "base_uri": "https://localhost:8080/"
        },
        "id": "MuKeeGOtT02C",
        "outputId": "3b98353c-3809-426e-c1bc-338e38e32b01"
      },
      "execution_count": 11,
      "outputs": [
        {
          "output_type": "stream",
          "name": "stdout",
          "text": [
            "al qaeda vatican plot uncovered in libya\n",
            "tributes flow for launceston cycling wins\n",
            "spread of aids vaccine\n",
            "hewson accuses govt of disregarding anzac spirit\n",
            "calgary zoo otter drowns after getting out of first nba three pointer\n",
            "residents to help stimulate dairy industry future unclear\n",
            "lassila hits form in sydney final on penalties coming home\n",
            "suspected fox scats to undergo post mortem to be lifted ring fencing\n",
            "police head to aceh\n",
            "former customs official to face criminal prosecution\n"
          ]
        }
      ]
    },
    {
      "cell_type": "markdown",
      "source": [
        "## Generating random headlines with Markov chain using 3 words defining a state in the headline:"
      ],
      "metadata": {
        "id": "JoWSPLFLGsDo"
      }
    },
    {
      "cell_type": "code",
      "source": [
        "text_model = markovify.NewlineText(inp.headline_text, state_size = 3)"
      ],
      "metadata": {
        "id": "aoLKNhikPjOB"
      },
      "execution_count": 12,
      "outputs": []
    },
    {
      "cell_type": "code",
      "source": [
        "for i in range(5):\n",
        "    print(text_model.make_sentence())"
      ],
      "metadata": {
        "colab": {
          "base_uri": "https://localhost:8080/"
        },
        "id": "FzjsWkoCPoIV",
        "outputId": "b05e35d5-efb6-4fa0-b7b7-014b27b3df97"
      },
      "execution_count": 15,
      "outputs": [
        {
          "output_type": "stream",
          "name": "stdout",
          "text": [
            "man guilty of abusing girl\n",
            "media mogul kerry stokes named was australian of the year candidate adam goodes\n",
            "maggots found in food brisbane\n",
            "easter brings western qld rain brings out desert frogs\n",
            "three hurt in bendigo police chase man armed with knife break into munno para home\n"
          ]
        }
      ]
    },
    {
      "cell_type": "code",
      "source": [
        "print(\"This code snippet has run successfully!\")"
      ],
      "metadata": {
        "colab": {
          "base_uri": "https://localhost:8080/"
        },
        "id": "6ZIMJI9BHy68",
        "outputId": "697b64ba-9721-408f-b78d-c0a99748b487"
      },
      "execution_count": 14,
      "outputs": [
        {
          "output_type": "stream",
          "name": "stdout",
          "text": [
            "This code snippet has run successfully!\n"
          ]
        }
      ]
    }
  ]
}