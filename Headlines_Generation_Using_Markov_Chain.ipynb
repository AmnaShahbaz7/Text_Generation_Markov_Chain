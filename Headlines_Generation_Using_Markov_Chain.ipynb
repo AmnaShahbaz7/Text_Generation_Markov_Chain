{
  "nbformat": 4,
  "nbformat_minor": 0,
  "metadata": {
    "colab": {
      "provenance": [],
      "authorship_tag": "ABX9TyNERQnAYnNWwuK4abYE2F57",
      "include_colab_link": true
    },
    "kernelspec": {
      "name": "python3",
      "display_name": "Python 3"
    },
    "language_info": {
      "name": "python"
    }
  },
  "cells": [
    {
      "cell_type": "markdown",
      "metadata": {
        "id": "view-in-github",
        "colab_type": "text"
      },
      "source": [
        "<a href=\"https://colab.research.google.com/github/AmnaShahbaz7/Text_Generation_Markov_Chain/blob/main/Headlines_Generation_Using_Markov_Chain.ipynb\" target=\"_parent\"><img src=\"https://colab.research.google.com/assets/colab-badge.svg\" alt=\"Open In Colab\"/></a>"
      ]
    },
    {
      "cell_type": "markdown",
      "source": [
        "# Markov chain generation of meaningful random headlines\n",
        "## Advance Topics - Applied Data Science\n",
        "\n",
        "---\n",
        "\n",
        "\n",
        "### Supervised by Em. O. Univ.-Prof. Dr. Jürgen Pilz\n",
        "#### Author: Amna Shahbaz"
      ],
      "metadata": {
        "id": "sAeNcA1-CHIQ"
      }
    },
    {
      "cell_type": "markdown",
      "source": [
        "## Installation of markovify Python library:"
      ],
      "metadata": {
        "id": "UBxNjUUAEnqJ"
      }
    },
    {
      "cell_type": "code",
      "source": [
        "!pip install markovify"
      ],
      "metadata": {
        "colab": {
          "base_uri": "https://localhost:8080/"
        },
        "id": "owtLeVDzCHnD",
        "outputId": "2eb91c33-12de-4978-889f-306996f68eae"
      },
      "execution_count": null,
      "outputs": [
        {
          "output_type": "stream",
          "name": "stdout",
          "text": [
            "Looking in indexes: https://pypi.org/simple, https://us-python.pkg.dev/colab-wheels/public/simple/\n",
            "Collecting markovify\n",
            "  Downloading markovify-0.9.4.tar.gz (27 kB)\n",
            "  Preparing metadata (setup.py) ... \u001b[?25l\u001b[?25hdone\n",
            "Collecting unidecode\n",
            "  Downloading Unidecode-1.3.6-py3-none-any.whl (235 kB)\n",
            "\u001b[2K     \u001b[90m━━━━━━━━━━━━━━━━━━━━━━━━━━━━━━━━━━━━━━━\u001b[0m \u001b[32m235.9/235.9 KB\u001b[0m \u001b[31m9.8 MB/s\u001b[0m eta \u001b[36m0:00:00\u001b[0m\n",
            "\u001b[?25hBuilding wheels for collected packages: markovify\n",
            "  Building wheel for markovify (setup.py) ... \u001b[?25l\u001b[?25hdone\n",
            "  Created wheel for markovify: filename=markovify-0.9.4-py3-none-any.whl size=18627 sha256=e1efb387b043192b13f5a5b0a03f02eefa7502eee4c3e38e7a235cb496b21bca\n",
            "  Stored in directory: /root/.cache/pip/wheels/aa/9d/bb/96461cbfde2120f3612c7c2af202976d46542735a2cd8b00f8\n",
            "Successfully built markovify\n",
            "Installing collected packages: unidecode, markovify\n",
            "Successfully installed markovify-0.9.4 unidecode-1.3.6\n"
          ]
        }
      ]
    },
    {
      "cell_type": "markdown",
      "source": [
        "## Loaded needed libraries:"
      ],
      "metadata": {
        "id": "KdtGZojKE3Fh"
      }
    },
    {
      "cell_type": "code",
      "execution_count": null,
      "metadata": {
        "id": "nHlXR5iXBw-u"
      },
      "outputs": [],
      "source": [
        "import numpy as np\n",
        "import pandas as pd\n",
        "import markovify\n",
        "import random"
      ]
    },
    {
      "cell_type": "markdown",
      "source": [
        "## Accessing the data from google drive:\n",
        "#### In this project the collection of 1213004 headlines from 2003-02-19 till  2021-12-31, is used in this project, it is an open-source data from ABC News published by Rohit Kulkarni in Kaggle."
      ],
      "metadata": {
        "id": "yiRAw9kUE-k4"
      }
    },
    {
      "cell_type": "code",
      "source": [
        "from google.colab import drive\n",
        "drive.mount('/content/drive')"
      ],
      "metadata": {
        "colab": {
          "base_uri": "https://localhost:8080/"
        },
        "id": "Rww5zPrdCZhs",
        "outputId": "497a0058-c724-4285-b405-5ddfd1c969b9"
      },
      "execution_count": null,
      "outputs": [
        {
          "output_type": "stream",
          "name": "stdout",
          "text": [
            "Drive already mounted at /content/drive; to attempt to forcibly remount, call drive.mount(\"/content/drive\", force_remount=True).\n"
          ]
        }
      ]
    },
    {
      "cell_type": "markdown",
      "source": [
        "## Defining the data path:"
      ],
      "metadata": {
        "id": "ICSHGQIgGJw4"
      }
    },
    {
      "cell_type": "code",
      "source": [
        "path=\"/content/drive/MyDrive/abcnews-date-text.csv\""
      ],
      "metadata": {
        "id": "1qAbSBIvCffm"
      },
      "execution_count": null,
      "outputs": []
    },
    {
      "cell_type": "markdown",
      "source": [
        "## Headlines samples first 10 rows:"
      ],
      "metadata": {
        "id": "2_8G0Mo9GQDo"
      }
    },
    {
      "cell_type": "code",
      "source": [
        "inp = pd.read_csv(path)\n",
        "inp.head(10)"
      ],
      "metadata": {
        "colab": {
          "base_uri": "https://localhost:8080/",
          "height": 363
        },
        "id": "CJF4lo28CBtl",
        "outputId": "012f76f4-d5d4-4c67-9f4a-58a26736e7c8"
      },
      "execution_count": null,
      "outputs": [
        {
          "output_type": "execute_result",
          "data": {
            "text/plain": [
              "   publish_date                                      headline_text\n",
              "0      20030219  aba decides against community broadcasting lic...\n",
              "1      20030219     act fire witnesses must be aware of defamation\n",
              "2      20030219     a g calls for infrastructure protection summit\n",
              "3      20030219           air nz staff in aust strike for pay rise\n",
              "4      20030219      air nz strike to affect australian travellers\n",
              "5      20030219                  ambitious olsson wins triple jump\n",
              "6      20030219         antic delighted with record breaking barca\n",
              "7      20030219  aussie qualifier stosur wastes four memphis match\n",
              "8      20030219       aust addresses un security council over iraq\n",
              "9      20030219         australia is locked into war timetable opp"
            ],
            "text/html": [
              "\n",
              "  <div id=\"df-8eca9242-b06e-44b4-9ba4-60f32c61636c\">\n",
              "    <div class=\"colab-df-container\">\n",
              "      <div>\n",
              "<style scoped>\n",
              "    .dataframe tbody tr th:only-of-type {\n",
              "        vertical-align: middle;\n",
              "    }\n",
              "\n",
              "    .dataframe tbody tr th {\n",
              "        vertical-align: top;\n",
              "    }\n",
              "\n",
              "    .dataframe thead th {\n",
              "        text-align: right;\n",
              "    }\n",
              "</style>\n",
              "<table border=\"1\" class=\"dataframe\">\n",
              "  <thead>\n",
              "    <tr style=\"text-align: right;\">\n",
              "      <th></th>\n",
              "      <th>publish_date</th>\n",
              "      <th>headline_text</th>\n",
              "    </tr>\n",
              "  </thead>\n",
              "  <tbody>\n",
              "    <tr>\n",
              "      <th>0</th>\n",
              "      <td>20030219</td>\n",
              "      <td>aba decides against community broadcasting lic...</td>\n",
              "    </tr>\n",
              "    <tr>\n",
              "      <th>1</th>\n",
              "      <td>20030219</td>\n",
              "      <td>act fire witnesses must be aware of defamation</td>\n",
              "    </tr>\n",
              "    <tr>\n",
              "      <th>2</th>\n",
              "      <td>20030219</td>\n",
              "      <td>a g calls for infrastructure protection summit</td>\n",
              "    </tr>\n",
              "    <tr>\n",
              "      <th>3</th>\n",
              "      <td>20030219</td>\n",
              "      <td>air nz staff in aust strike for pay rise</td>\n",
              "    </tr>\n",
              "    <tr>\n",
              "      <th>4</th>\n",
              "      <td>20030219</td>\n",
              "      <td>air nz strike to affect australian travellers</td>\n",
              "    </tr>\n",
              "    <tr>\n",
              "      <th>5</th>\n",
              "      <td>20030219</td>\n",
              "      <td>ambitious olsson wins triple jump</td>\n",
              "    </tr>\n",
              "    <tr>\n",
              "      <th>6</th>\n",
              "      <td>20030219</td>\n",
              "      <td>antic delighted with record breaking barca</td>\n",
              "    </tr>\n",
              "    <tr>\n",
              "      <th>7</th>\n",
              "      <td>20030219</td>\n",
              "      <td>aussie qualifier stosur wastes four memphis match</td>\n",
              "    </tr>\n",
              "    <tr>\n",
              "      <th>8</th>\n",
              "      <td>20030219</td>\n",
              "      <td>aust addresses un security council over iraq</td>\n",
              "    </tr>\n",
              "    <tr>\n",
              "      <th>9</th>\n",
              "      <td>20030219</td>\n",
              "      <td>australia is locked into war timetable opp</td>\n",
              "    </tr>\n",
              "  </tbody>\n",
              "</table>\n",
              "</div>\n",
              "      <button class=\"colab-df-convert\" onclick=\"convertToInteractive('df-8eca9242-b06e-44b4-9ba4-60f32c61636c')\"\n",
              "              title=\"Convert this dataframe to an interactive table.\"\n",
              "              style=\"display:none;\">\n",
              "        \n",
              "  <svg xmlns=\"http://www.w3.org/2000/svg\" height=\"24px\"viewBox=\"0 0 24 24\"\n",
              "       width=\"24px\">\n",
              "    <path d=\"M0 0h24v24H0V0z\" fill=\"none\"/>\n",
              "    <path d=\"M18.56 5.44l.94 2.06.94-2.06 2.06-.94-2.06-.94-.94-2.06-.94 2.06-2.06.94zm-11 1L8.5 8.5l.94-2.06 2.06-.94-2.06-.94L8.5 2.5l-.94 2.06-2.06.94zm10 10l.94 2.06.94-2.06 2.06-.94-2.06-.94-.94-2.06-.94 2.06-2.06.94z\"/><path d=\"M17.41 7.96l-1.37-1.37c-.4-.4-.92-.59-1.43-.59-.52 0-1.04.2-1.43.59L10.3 9.45l-7.72 7.72c-.78.78-.78 2.05 0 2.83L4 21.41c.39.39.9.59 1.41.59.51 0 1.02-.2 1.41-.59l7.78-7.78 2.81-2.81c.8-.78.8-2.07 0-2.86zM5.41 20L4 18.59l7.72-7.72 1.47 1.35L5.41 20z\"/>\n",
              "  </svg>\n",
              "      </button>\n",
              "      \n",
              "  <style>\n",
              "    .colab-df-container {\n",
              "      display:flex;\n",
              "      flex-wrap:wrap;\n",
              "      gap: 12px;\n",
              "    }\n",
              "\n",
              "    .colab-df-convert {\n",
              "      background-color: #E8F0FE;\n",
              "      border: none;\n",
              "      border-radius: 50%;\n",
              "      cursor: pointer;\n",
              "      display: none;\n",
              "      fill: #1967D2;\n",
              "      height: 32px;\n",
              "      padding: 0 0 0 0;\n",
              "      width: 32px;\n",
              "    }\n",
              "\n",
              "    .colab-df-convert:hover {\n",
              "      background-color: #E2EBFA;\n",
              "      box-shadow: 0px 1px 2px rgba(60, 64, 67, 0.3), 0px 1px 3px 1px rgba(60, 64, 67, 0.15);\n",
              "      fill: #174EA6;\n",
              "    }\n",
              "\n",
              "    [theme=dark] .colab-df-convert {\n",
              "      background-color: #3B4455;\n",
              "      fill: #D2E3FC;\n",
              "    }\n",
              "\n",
              "    [theme=dark] .colab-df-convert:hover {\n",
              "      background-color: #434B5C;\n",
              "      box-shadow: 0px 1px 3px 1px rgba(0, 0, 0, 0.15);\n",
              "      filter: drop-shadow(0px 1px 2px rgba(0, 0, 0, 0.3));\n",
              "      fill: #FFFFFF;\n",
              "    }\n",
              "  </style>\n",
              "\n",
              "      <script>\n",
              "        const buttonEl =\n",
              "          document.querySelector('#df-8eca9242-b06e-44b4-9ba4-60f32c61636c button.colab-df-convert');\n",
              "        buttonEl.style.display =\n",
              "          google.colab.kernel.accessAllowed ? 'block' : 'none';\n",
              "\n",
              "        async function convertToInteractive(key) {\n",
              "          const element = document.querySelector('#df-8eca9242-b06e-44b4-9ba4-60f32c61636c');\n",
              "          const dataTable =\n",
              "            await google.colab.kernel.invokeFunction('convertToInteractive',\n",
              "                                                     [key], {});\n",
              "          if (!dataTable) return;\n",
              "\n",
              "          const docLinkHtml = 'Like what you see? Visit the ' +\n",
              "            '<a target=\"_blank\" href=https://colab.research.google.com/notebooks/data_table.ipynb>data table notebook</a>'\n",
              "            + ' to learn more about interactive tables.';\n",
              "          element.innerHTML = '';\n",
              "          dataTable['output_type'] = 'display_data';\n",
              "          await google.colab.output.renderOutput(dataTable, element);\n",
              "          const docLink = document.createElement('div');\n",
              "          docLink.innerHTML = docLinkHtml;\n",
              "          element.appendChild(docLink);\n",
              "        }\n",
              "      </script>\n",
              "    </div>\n",
              "  </div>\n",
              "  "
            ]
          },
          "metadata": {},
          "execution_count": 9
        }
      ]
    },
    {
      "cell_type": "markdown",
      "source": [
        "## Random sample headlines:"
      ],
      "metadata": {
        "id": "pVysxKpiGgRP"
      }
    },
    {
      "cell_type": "code",
      "source": [
        "inp.headline_text[random.sample(range(200), 30)]"
      ],
      "metadata": {
        "id": "WAs2nP2kCvvS",
        "colab": {
          "base_uri": "https://localhost:8080/"
        },
        "outputId": "d1f509eb-8504-4d05-b2c2-f8cb1de39af4"
      },
      "execution_count": null,
      "outputs": [
        {
          "output_type": "execute_result",
          "data": {
            "text/plain": [
              "192                    webb favourite for ladies masters\n",
              "156          rsl angry about reports of troop harassment\n",
              "17        british combat troops arriving daily in kuwait\n",
              "2         a g calls for infrastructure protection summit\n",
              "134     policewomen accusations feature at federal crime\n",
              "29       councillor to contest wollongong as independent\n",
              "36              dems hold plebiscite over iraqi conflict\n",
              "45     epa still trying to recover chemical clean up ...\n",
              "76            iraq to pay for own rebuilding white house\n",
              "79                   israeli forces push into gaza strip\n",
              "154          ricciuto undergoes surgery on injured ankle\n",
              "6             antic delighted with record breaking barca\n",
              "199                           abattoir up for sale again\n",
              "141              qr not planning northern route sackings\n",
              "176              taipans placing future in publics hands\n",
              "35     death toll continues to climb in south korean ...\n",
              "110      nsw govt under fire for holding back vegetation\n",
              "42                 dog mauls 18 month old toddler in nsw\n",
              "196                 wine chief bounces back from sacking\n",
              "96            meeting to focus on broken hill water woes\n",
              "77                 irish man arrested over omagh bombing\n",
              "148                 refshauge wins defamation court case\n",
              "62               greens offer police station alternative\n",
              "151                       resource stocks boost all ords\n",
              "128             pienaar shines as ajax frustrate arsenal\n",
              "58                 girl injured in head on highway crash\n",
              "125     patterson no show displays govts arrogance crean\n",
              "126    patterson snubs health meeting to avoid lions den\n",
              "12                            bathhouse plans move ahead\n",
              "160      saudi arabia tells arabs war on iraq inevitable\n",
              "Name: headline_text, dtype: object"
            ]
          },
          "metadata": {},
          "execution_count": 18
        }
      ]
    },
    {
      "cell_type": "markdown",
      "source": [
        "## Generating random headlines with Markov chain using 2 words defining a state in the headline:"
      ],
      "metadata": {
        "id": "BDpb4RUsR-54"
      }
    },
    {
      "cell_type": "code",
      "source": [
        "text_model2 = markovify.NewlineText(inp.headline_text, state_size = 2)"
      ],
      "metadata": {
        "id": "dzZ1BJ6rR2W_"
      },
      "execution_count": null,
      "outputs": []
    },
    {
      "cell_type": "markdown",
      "source": [
        "## The generated headlines from first model:"
      ],
      "metadata": {
        "id": "mku-oAsfS6rQ"
      }
    },
    {
      "cell_type": "code",
      "source": [
        "for i in range(20):\n",
        "    print(text_model2.make_sentence())"
      ],
      "metadata": {
        "colab": {
          "base_uri": "https://localhost:8080/"
        },
        "id": "WWCDiPNrSHBZ",
        "outputId": "7216daf2-f598-4937-c895-ab9413c324d8"
      },
      "execution_count": null,
      "outputs": [
        {
          "output_type": "stream",
          "name": "stdout",
          "text": [
            "membrey accused denies making excuses over sex worker on child victims missing compensation\n",
            "brooky return boosts fired up for indigenous security patrols\n",
            "sea search intensifies for mri medicare licence still up beat about recovering funds\n",
            "northam gauges super towns funding tipped to boost power generation\n",
            "rural nsw bushfire funding plan\n",
            "collie residents call for tougher aged care homes\n",
            "black powder packs nutritious punch\n",
            "residents urged to unite grass patch farmer pleads guilty over failed\n",
            "calls for end to png\n",
            "flu jabs criticised by fishers\n",
            "roberts dominates us aust ambassador held in iraq detention\n",
            "australian art on display in sydney\n",
            "drought tightens grip on us market dips despite mining job losses coming bligh says\n",
            "whitsunday mayor hopeful of six swans newcomers\n",
            "mydoom computer worm found\n",
            "are mixed alcohol tax\n",
            "future market for infant sons manslaughter\n",
            "gerrard rested as maclaren recalled to england\n",
            "victoria to decide on mall project\n",
            "gift track too long anglers\n"
          ]
        }
      ]
    },
    {
      "cell_type": "markdown",
      "source": [
        "## Generating random headlines with Markov chain using 2 words defining a state in the headline (second model in order to combine it with the first model):"
      ],
      "metadata": {
        "id": "QhkdPEx7TKKc"
      }
    },
    {
      "cell_type": "code",
      "source": [
        "text_model2_2 = markovify.NewlineText(inp.headline_text, state_size = 2)"
      ],
      "metadata": {
        "id": "CR1wfApNSG_3"
      },
      "execution_count": null,
      "outputs": []
    },
    {
      "cell_type": "code",
      "source": [
        "for i in range(20):\n",
        "    print(text_model2_2.make_sentence())"
      ],
      "metadata": {
        "colab": {
          "base_uri": "https://localhost:8080/"
        },
        "id": "iOUaty6nSGpN",
        "outputId": "03497c0d-a426-4880-e1ca-7a525c023f27"
      },
      "execution_count": null,
      "outputs": [
        {
          "output_type": "stream",
          "name": "stdout",
          "text": [
            "iran open to traffic\n",
            "top stories on the brink\n",
            "police killer shot dead on qld sunshine coast uni studies\n",
            "blues lead against magpies\n",
            "coronavirus australia live news covid 19 vaccines on track for iron ore surging\n",
            "shepparton council opens new wing\n",
            "mckinnon brilliance steals win for data centre loss covid 19 assistance package cheap flights\n",
            "paul mccartney reflects on his free fuel cards\n",
            "desal deadline could change more than 200 killed thousands of homes\n",
            "contador makes steep comeback from knee surgery forces hardwick out of england threat\n",
            "australian marcus lee matt joyce dubai corruption falling out of open war on melons\n",
            "toro at head office\n",
            "doctor with drug offences after\n",
            "forest peace predicted to be sold today\n",
            "row erupts over highway upgrade compo concerns\n",
            "authorities yet to be bigger\n",
            "carpenter to announce comeback\n",
            "djs to pay millions over budget cuts\n",
            "raiders shock manly at brookvale\n",
            "opals prepared for us talks on falklands\n"
          ]
        }
      ]
    },
    {
      "cell_type": "markdown",
      "source": [
        "## Combining first and second model which have 2 words defining a state:"
      ],
      "metadata": {
        "id": "J3JU8ZJ2T1W8"
      }
    },
    {
      "cell_type": "code",
      "source": [
        "model_combo = markovify.combine([ text_model2, text_model2_2 ], [ 1.5, 1 ])\n",
        "for i in range(30):\n",
        "    print(model_combo.make_sentence())"
      ],
      "metadata": {
        "colab": {
          "base_uri": "https://localhost:8080/"
        },
        "id": "MuKeeGOtT02C",
        "outputId": "5771f27e-23b0-4abe-b8d9-93218619a579"
      },
      "execution_count": null,
      "outputs": [
        {
          "output_type": "stream",
          "name": "stdout",
          "text": [
            "scuba instructor details events of the rabbit\n",
            "new powers for asd spy agency data collection strategy\n",
            "divers look for start of london bombing suspects\n",
            "mum of three charged over fatal crash police seek public assistance after boy drowns while swimming in a new direct service\n",
            "mclaren needs a rethink\n",
            "influencer apologises for srebrenica massacre\n",
            "government strikes deal to test for bombers coaching role\n",
            "nbn boss bill morrow nbn\n",
            "parachutist rescued from hay this\n",
            "inquiry to probe chemical spill closes roads\n",
            "murat shomshe who fled while on duty during sex game killer admits punching partner but denies apologising over nazi jibe sparks eu uproar\n",
            "bond over bogus bottles\n",
            "struggling gm launches union buy out talks on is\n",
            "man faces court over cbd crime clean up continues at rugby club\n",
            "drunk driver who allegedly attacked by thieves\n",
            "northern territory gas pipeline project\n",
            "benalla council confident of strong magic millions\n",
            "kookaburras look to make a difference\n",
            "swimmers warned about playing fiji\n",
            "nsw premier nathan rees talks to abc 702 local radios\n",
            "dpi mulls camel industry report\n",
            "likud delivers blow to low risk to elderly; disabled\n",
            "fears for jailed doctors appeal to comancheros over muhamed yucel shot dead\n",
            "woman accused of stabbing kieran priestland murder\n",
            "charles darwin missed visit wa for philippines operation\n",
            "boris johnson says he may be finished early\n",
            "man critical after being swept off sydney onslaught\n",
            "men to take case to take a position on david campbell heeded premiers call for qld floodwaters rising\n",
            "the back to irc over ramping\n",
            "eight killed in clashes with fan\n"
          ]
        }
      ]
    },
    {
      "cell_type": "markdown",
      "source": [
        "## Generating random headlines with Markov chain using 4 words defining a state in the headline:"
      ],
      "metadata": {
        "id": "JoWSPLFLGsDo"
      }
    },
    {
      "cell_type": "code",
      "source": [
        "text_model = markovify.NewlineText(inp.headline_text, state_size = 3)"
      ],
      "metadata": {
        "id": "aoLKNhikPjOB"
      },
      "execution_count": null,
      "outputs": []
    },
    {
      "cell_type": "code",
      "source": [
        "for i in range(10):\n",
        "    print(text_model.make_sentence())"
      ],
      "metadata": {
        "colab": {
          "base_uri": "https://localhost:8080/"
        },
        "id": "FzjsWkoCPoIV",
        "outputId": "69ff324b-6c20-470f-998f-8274499ad85b"
      },
      "execution_count": null,
      "outputs": [
        {
          "output_type": "stream",
          "name": "stdout",
          "text": [
            "salute the great australian outback cattle routes in peril\n",
            "bendigo council to raise issues in canning by election candidate\n",
            "storm damage fails to spark baxter asylum review\n",
            "charged prosecutor expected to plead not guilty to fraud\n",
            "renewed attempt to cap nsw public sector hit by latest covid\n",
            "coles paylean ban to have little impact on surging market\n",
            "lobster processor looks forward to turbull environment\n",
            "police officers injured in brawl outside hotel\n",
            "five denied bail over alleged murder of kim wall appeals sentence\n",
            "convicted killer ahwon still at large after 14 fires police plead for clues to fatal\n"
          ]
        }
      ]
    },
    {
      "cell_type": "code",
      "source": [
        "print(\"This code snippet has run successfully!\")"
      ],
      "metadata": {
        "colab": {
          "base_uri": "https://localhost:8080/"
        },
        "id": "6ZIMJI9BHy68",
        "outputId": "51ec27ea-34a7-432b-e6c5-873667eac333"
      },
      "execution_count": null,
      "outputs": [
        {
          "output_type": "stream",
          "name": "stdout",
          "text": [
            "This code snippet has run successfully!\n"
          ]
        }
      ]
    }
  ]
}