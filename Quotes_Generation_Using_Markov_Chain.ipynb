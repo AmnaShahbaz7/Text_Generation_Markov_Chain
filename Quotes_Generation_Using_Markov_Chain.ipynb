{
  "nbformat": 4,
  "nbformat_minor": 0,
  "metadata": {
    "colab": {
      "provenance": [],
      "authorship_tag": "ABX9TyMUThp2W+1M7dukikc/QQ3p",
      "include_colab_link": true
    },
    "kernelspec": {
      "name": "python3",
      "display_name": "Python 3"
    },
    "language_info": {
      "name": "python"
    }
  },
  "cells": [
    {
      "cell_type": "markdown",
      "metadata": {
        "id": "view-in-github",
        "colab_type": "text"
      },
      "source": [
        "<a href=\"https://colab.research.google.com/github/AmnaShahbaz7/Text_Generation_Markov_Chain/blob/main/Quotes_Generation_Using_Markov_Chain.ipynb\" target=\"_parent\"><img src=\"https://colab.research.google.com/assets/colab-badge.svg\" alt=\"Open In Colab\"/></a>"
      ]
    },
    {
      "cell_type": "markdown",
      "source": [
        "# Generation of Quotes using Markov chains \n",
        "## Advance Topics - Applied Data Science\n",
        "\n",
        "---\n",
        "\n",
        "\n",
        "### Supervised by Em. O. Univ.-Prof. Dr. Jürgen Pilz\n",
        "#### Author: Amna Shahbaz"
      ],
      "metadata": {
        "id": "sAeNcA1-CHIQ"
      }
    },
    {
      "cell_type": "markdown",
      "source": [
        "## Installation of markovify Python library:"
      ],
      "metadata": {
        "id": "UBxNjUUAEnqJ"
      }
    },
    {
      "cell_type": "code",
      "source": [
        "!pip install markovify"
      ],
      "metadata": {
        "colab": {
          "base_uri": "https://localhost:8080/"
        },
        "id": "owtLeVDzCHnD",
        "outputId": "8e6b53c3-d5d3-461c-f5bf-baf13211aebc"
      },
      "execution_count": 13,
      "outputs": [
        {
          "output_type": "stream",
          "name": "stdout",
          "text": [
            "Looking in indexes: https://pypi.org/simple, https://us-python.pkg.dev/colab-wheels/public/simple/\n",
            "Requirement already satisfied: markovify in /usr/local/lib/python3.8/dist-packages (0.9.4)\n",
            "Requirement already satisfied: unidecode in /usr/local/lib/python3.8/dist-packages (from markovify) (1.3.6)\n"
          ]
        }
      ]
    },
    {
      "cell_type": "markdown",
      "source": [
        "## Loaded needed libraries:"
      ],
      "metadata": {
        "id": "KdtGZojKE3Fh"
      }
    },
    {
      "cell_type": "code",
      "execution_count": 14,
      "metadata": {
        "id": "nHlXR5iXBw-u"
      },
      "outputs": [],
      "source": [
        "import numpy as np\n",
        "import pandas as pd\n",
        "import markovify\n",
        "import random"
      ]
    },
    {
      "cell_type": "markdown",
      "source": [
        "## Accessing the data from google drive:\n",
        "#### In this project the collection of 48391 quotes is used (in json file format), which is an open-source dataset published by Amit Mittal in Kaggle."
      ],
      "metadata": {
        "id": "yiRAw9kUE-k4"
      }
    },
    {
      "cell_type": "code",
      "source": [
        "from google.colab import drive\n",
        "drive.mount('/content/drive')"
      ],
      "metadata": {
        "colab": {
          "base_uri": "https://localhost:8080/"
        },
        "id": "Rww5zPrdCZhs",
        "outputId": "3c603019-0a76-46db-fa21-4c94254cf69e"
      },
      "execution_count": 15,
      "outputs": [
        {
          "output_type": "stream",
          "name": "stdout",
          "text": [
            "Drive already mounted at /content/drive; to attempt to forcibly remount, call drive.mount(\"/content/drive\", force_remount=True).\n"
          ]
        }
      ]
    },
    {
      "cell_type": "markdown",
      "source": [
        "## Defining the data path:"
      ],
      "metadata": {
        "id": "ICSHGQIgGJw4"
      }
    },
    {
      "cell_type": "code",
      "source": [
        "path=\"/content/drive/MyDrive/quotes.json\""
      ],
      "metadata": {
        "id": "1qAbSBIvCffm"
      },
      "execution_count": 16,
      "outputs": []
    },
    {
      "cell_type": "markdown",
      "source": [
        "## Quotes samples first 5 rows:"
      ],
      "metadata": {
        "id": "2_8G0Mo9GQDo"
      }
    },
    {
      "cell_type": "code",
      "source": [
        "inp = pd.read_json(path)\n",
        "inp.head(5)"
      ],
      "metadata": {
        "colab": {
          "base_uri": "https://localhost:8080/",
          "height": 206
        },
        "id": "CJF4lo28CBtl",
        "outputId": "fbc04a1f-33a7-40f4-d3a3-1504779f9294"
      },
      "execution_count": 17,
      "outputs": [
        {
          "output_type": "execute_result",
          "data": {
            "text/plain": [
              "                                               Quote          Author  \\\n",
              "0  Don't cry because it's over, smile because it ...       Dr. Seuss   \n",
              "1  Don't cry because it's over, smile because it ...       Dr. Seuss   \n",
              "2  I'm selfish, impatient and a little insecure. ...  Marilyn Monroe   \n",
              "3  I'm selfish, impatient and a little insecure. ...  Marilyn Monroe   \n",
              "4  I'm selfish, impatient and a little insecure. ...  Marilyn Monroe   \n",
              "\n",
              "                                                Tags  Popularity   Category  \n",
              "0  [attributed-no-source, cry, crying, experience...    0.155666       life  \n",
              "1  [attributed-no-source, cry, crying, experience...    0.155666  happiness  \n",
              "2  [attributed-no-source, best, life, love, mista...    0.129122       love  \n",
              "3  [attributed-no-source, best, life, love, mista...    0.129122       life  \n",
              "4  [attributed-no-source, best, life, love, mista...    0.129122      truth  "
            ],
            "text/html": [
              "\n",
              "  <div id=\"df-edc54396-7049-4804-979d-f8d69f8089f7\">\n",
              "    <div class=\"colab-df-container\">\n",
              "      <div>\n",
              "<style scoped>\n",
              "    .dataframe tbody tr th:only-of-type {\n",
              "        vertical-align: middle;\n",
              "    }\n",
              "\n",
              "    .dataframe tbody tr th {\n",
              "        vertical-align: top;\n",
              "    }\n",
              "\n",
              "    .dataframe thead th {\n",
              "        text-align: right;\n",
              "    }\n",
              "</style>\n",
              "<table border=\"1\" class=\"dataframe\">\n",
              "  <thead>\n",
              "    <tr style=\"text-align: right;\">\n",
              "      <th></th>\n",
              "      <th>Quote</th>\n",
              "      <th>Author</th>\n",
              "      <th>Tags</th>\n",
              "      <th>Popularity</th>\n",
              "      <th>Category</th>\n",
              "    </tr>\n",
              "  </thead>\n",
              "  <tbody>\n",
              "    <tr>\n",
              "      <th>0</th>\n",
              "      <td>Don't cry because it's over, smile because it ...</td>\n",
              "      <td>Dr. Seuss</td>\n",
              "      <td>[attributed-no-source, cry, crying, experience...</td>\n",
              "      <td>0.155666</td>\n",
              "      <td>life</td>\n",
              "    </tr>\n",
              "    <tr>\n",
              "      <th>1</th>\n",
              "      <td>Don't cry because it's over, smile because it ...</td>\n",
              "      <td>Dr. Seuss</td>\n",
              "      <td>[attributed-no-source, cry, crying, experience...</td>\n",
              "      <td>0.155666</td>\n",
              "      <td>happiness</td>\n",
              "    </tr>\n",
              "    <tr>\n",
              "      <th>2</th>\n",
              "      <td>I'm selfish, impatient and a little insecure. ...</td>\n",
              "      <td>Marilyn Monroe</td>\n",
              "      <td>[attributed-no-source, best, life, love, mista...</td>\n",
              "      <td>0.129122</td>\n",
              "      <td>love</td>\n",
              "    </tr>\n",
              "    <tr>\n",
              "      <th>3</th>\n",
              "      <td>I'm selfish, impatient and a little insecure. ...</td>\n",
              "      <td>Marilyn Monroe</td>\n",
              "      <td>[attributed-no-source, best, life, love, mista...</td>\n",
              "      <td>0.129122</td>\n",
              "      <td>life</td>\n",
              "    </tr>\n",
              "    <tr>\n",
              "      <th>4</th>\n",
              "      <td>I'm selfish, impatient and a little insecure. ...</td>\n",
              "      <td>Marilyn Monroe</td>\n",
              "      <td>[attributed-no-source, best, life, love, mista...</td>\n",
              "      <td>0.129122</td>\n",
              "      <td>truth</td>\n",
              "    </tr>\n",
              "  </tbody>\n",
              "</table>\n",
              "</div>\n",
              "      <button class=\"colab-df-convert\" onclick=\"convertToInteractive('df-edc54396-7049-4804-979d-f8d69f8089f7')\"\n",
              "              title=\"Convert this dataframe to an interactive table.\"\n",
              "              style=\"display:none;\">\n",
              "        \n",
              "  <svg xmlns=\"http://www.w3.org/2000/svg\" height=\"24px\"viewBox=\"0 0 24 24\"\n",
              "       width=\"24px\">\n",
              "    <path d=\"M0 0h24v24H0V0z\" fill=\"none\"/>\n",
              "    <path d=\"M18.56 5.44l.94 2.06.94-2.06 2.06-.94-2.06-.94-.94-2.06-.94 2.06-2.06.94zm-11 1L8.5 8.5l.94-2.06 2.06-.94-2.06-.94L8.5 2.5l-.94 2.06-2.06.94zm10 10l.94 2.06.94-2.06 2.06-.94-2.06-.94-.94-2.06-.94 2.06-2.06.94z\"/><path d=\"M17.41 7.96l-1.37-1.37c-.4-.4-.92-.59-1.43-.59-.52 0-1.04.2-1.43.59L10.3 9.45l-7.72 7.72c-.78.78-.78 2.05 0 2.83L4 21.41c.39.39.9.59 1.41.59.51 0 1.02-.2 1.41-.59l7.78-7.78 2.81-2.81c.8-.78.8-2.07 0-2.86zM5.41 20L4 18.59l7.72-7.72 1.47 1.35L5.41 20z\"/>\n",
              "  </svg>\n",
              "      </button>\n",
              "      \n",
              "  <style>\n",
              "    .colab-df-container {\n",
              "      display:flex;\n",
              "      flex-wrap:wrap;\n",
              "      gap: 12px;\n",
              "    }\n",
              "\n",
              "    .colab-df-convert {\n",
              "      background-color: #E8F0FE;\n",
              "      border: none;\n",
              "      border-radius: 50%;\n",
              "      cursor: pointer;\n",
              "      display: none;\n",
              "      fill: #1967D2;\n",
              "      height: 32px;\n",
              "      padding: 0 0 0 0;\n",
              "      width: 32px;\n",
              "    }\n",
              "\n",
              "    .colab-df-convert:hover {\n",
              "      background-color: #E2EBFA;\n",
              "      box-shadow: 0px 1px 2px rgba(60, 64, 67, 0.3), 0px 1px 3px 1px rgba(60, 64, 67, 0.15);\n",
              "      fill: #174EA6;\n",
              "    }\n",
              "\n",
              "    [theme=dark] .colab-df-convert {\n",
              "      background-color: #3B4455;\n",
              "      fill: #D2E3FC;\n",
              "    }\n",
              "\n",
              "    [theme=dark] .colab-df-convert:hover {\n",
              "      background-color: #434B5C;\n",
              "      box-shadow: 0px 1px 3px 1px rgba(0, 0, 0, 0.15);\n",
              "      filter: drop-shadow(0px 1px 2px rgba(0, 0, 0, 0.3));\n",
              "      fill: #FFFFFF;\n",
              "    }\n",
              "  </style>\n",
              "\n",
              "      <script>\n",
              "        const buttonEl =\n",
              "          document.querySelector('#df-edc54396-7049-4804-979d-f8d69f8089f7 button.colab-df-convert');\n",
              "        buttonEl.style.display =\n",
              "          google.colab.kernel.accessAllowed ? 'block' : 'none';\n",
              "\n",
              "        async function convertToInteractive(key) {\n",
              "          const element = document.querySelector('#df-edc54396-7049-4804-979d-f8d69f8089f7');\n",
              "          const dataTable =\n",
              "            await google.colab.kernel.invokeFunction('convertToInteractive',\n",
              "                                                     [key], {});\n",
              "          if (!dataTable) return;\n",
              "\n",
              "          const docLinkHtml = 'Like what you see? Visit the ' +\n",
              "            '<a target=\"_blank\" href=https://colab.research.google.com/notebooks/data_table.ipynb>data table notebook</a>'\n",
              "            + ' to learn more about interactive tables.';\n",
              "          element.innerHTML = '';\n",
              "          dataTable['output_type'] = 'display_data';\n",
              "          await google.colab.output.renderOutput(dataTable, element);\n",
              "          const docLink = document.createElement('div');\n",
              "          docLink.innerHTML = docLinkHtml;\n",
              "          element.appendChild(docLink);\n",
              "        }\n",
              "      </script>\n",
              "    </div>\n",
              "  </div>\n",
              "  "
            ]
          },
          "metadata": {},
          "execution_count": 17
        }
      ]
    },
    {
      "cell_type": "markdown",
      "source": [
        "## Generated Random quote samples:"
      ],
      "metadata": {
        "id": "pVysxKpiGgRP"
      }
    },
    {
      "cell_type": "code",
      "source": [
        "inp.Quote[random.sample(range(100), 10)]"
      ],
      "metadata": {
        "id": "WAs2nP2kCvvS",
        "colab": {
          "base_uri": "https://localhost:8080/"
        },
        "outputId": "91e7a332-5ffe-49c8-9e37-ca046711bfdf"
      },
      "execution_count": 18,
      "outputs": [
        {
          "output_type": "execute_result",
          "data": {
            "text/plain": [
              "95    For every minute you are angry you lose sixty ...\n",
              "77    Fairy tales are more than true: not because th...\n",
              "33    Live as if you were to die tomorrow. Learn as ...\n",
              "60    Good friends, good books, and a sleepy conscie...\n",
              "4     I'm selfish, impatient and a little insecure. ...\n",
              "54    There are only two ways to live your life. One...\n",
              "31    Always forgive your enemies; nothing annoys th...\n",
              "46              We accept the love we think we deserve.\n",
              "38    To live is the rarest thing in the world. Most...\n",
              "98    I love deadlines. I love the whooshing noise t...\n",
              "Name: Quote, dtype: object"
            ]
          },
          "metadata": {},
          "execution_count": 18
        }
      ]
    },
    {
      "cell_type": "markdown",
      "source": [
        "## Generating random quotes with Markov chain using 2 words defining a state in the quote:"
      ],
      "metadata": {
        "id": "BDpb4RUsR-54"
      }
    },
    {
      "cell_type": "code",
      "source": [
        "text_model2 = markovify.NewlineText(inp.Quote, state_size =2)"
      ],
      "metadata": {
        "id": "dzZ1BJ6rR2W_"
      },
      "execution_count": 19,
      "outputs": []
    },
    {
      "cell_type": "markdown",
      "source": [
        "## The generated quotes from first model:"
      ],
      "metadata": {
        "id": "mku-oAsfS6rQ"
      }
    },
    {
      "cell_type": "code",
      "source": [
        "for i in range(10):\n",
        "    print(text_model2.make_sentence())"
      ],
      "metadata": {
        "colab": {
          "base_uri": "https://localhost:8080/"
        },
        "id": "WWCDiPNrSHBZ",
        "outputId": "dbeee45d-a7f3-445e-d561-a85150f745ff"
      },
      "execution_count": 20,
      "outputs": [
        {
          "output_type": "stream",
          "name": "stdout",
          "text": [
            "Whoever said that love can change nothing except to the results up to you.\n",
            "The true birthplace is that they have accommodated to the degree to which it lived and worked and died,The essence and quintessence of their significance.\n",
            "No more is there?\n",
            "Cause I'm Irish, and everyone of us. I believe in...Al Pacino.\n",
            "Have you a lasso, will you be.\n",
            "I didn't want it to the world, man will hurl me down anymore.\n",
            "One who continues to love with that kind of weapon you’d use to be. And let it radiate the sacred relationship of two things—time and love.\n",
            "Power is not limit, wind can touch them, they weave nets so frightfully strong and independent and confident - that the simple thing in life. And next time you’re at a price for greatness. Be humble for CHRIST sake and for all of us has a clock on it, ticking off the rhythm of my dignity is the chance to ask her how much you love someone, you still love him better, and learn to love everyone else. And that is required of him: it is solitude delivered from suffering\n",
            "Love is the key to humor them in this world to enjoy the most.\n",
            "If you don't collaborate, your ideas in business is the awakening of my enemies. Amen\n"
          ]
        }
      ]
    },
    {
      "cell_type": "markdown",
      "source": [
        "## Generating random quotes with Marko chain using 2 words defining a state in the quote (second model in order to combine it with the first model):"
      ],
      "metadata": {
        "id": "QhkdPEx7TKKc"
      }
    },
    {
      "cell_type": "code",
      "source": [
        "text_model2_2 = markovify.NewlineText(inp.Quote, state_size = 2)"
      ],
      "metadata": {
        "id": "CR1wfApNSG_3"
      },
      "execution_count": 21,
      "outputs": []
    },
    {
      "cell_type": "code",
      "source": [
        "for i in range(10):\n",
        "    print(text_model2_2.make_sentence())"
      ],
      "metadata": {
        "colab": {
          "base_uri": "https://localhost:8080/"
        },
        "id": "iOUaty6nSGpN",
        "outputId": "89eddc5c-82e5-4045-8f72-00f1fb39805d"
      },
      "execution_count": 22,
      "outputs": [
        {
          "output_type": "stream",
          "name": "stdout",
          "text": [
            "Life is short, so enjoy the breathtaking views of men and let me love you.\n",
            "Whatever games are played with one championship or a page-turning piece of advice I know that it's all about weathering the peaks get too far and wide and high. That's right, my love for you maybe it is probably too long in the moment, the now, the present. The best remedy for those lucky people. And that's way I'm not afraid of it; let us refrain, Let us decorate the world a better book in them, but I gotta tell you, I'd be a happier life merely because you listened to the children we were both motionless, but the girls stay home, become leaders in the mirror.\n",
            "We cannot always control how you felt, there was one thing that the public library, which belongs to the inside. there are no good reason to believe that any act of pure love.\n",
            "All profound distraction opens certain doors. You have to say that love waits\n",
            "He had wondered once why love was a man for you.\n",
            "Everything I need drama in my face reflected, and inside the lie.\n",
            "You can love a person, get a little faster.\n",
            "We aren't in need.\n",
            "Now begins to look down on things, they are understood only by what amuses their minds, this world to permit giving any of my emotions. I like cold coffee and cry over small hurts, but not desirable. Have you ever noticed how much we could but paint with the fragrance of romance grow when you think about you. I want to marry, I think American guys tend to love what we live it\n",
            "Sometimes God makes each one of the one who practices injury, while professing friendship. Benedict Arnold was a bit alarmed, to be taken away.\n"
          ]
        }
      ]
    },
    {
      "cell_type": "markdown",
      "source": [
        "## Combining first and second model which have 2 words defining a state:"
      ],
      "metadata": {
        "id": "J3JU8ZJ2T1W8"
      }
    },
    {
      "cell_type": "code",
      "source": [
        "model_combo = markovify.combine([ text_model2, text_model2_2 ], [ 1.5, 1 ])\n",
        "for i in range(10):\n",
        "    print(model_combo.make_sentence())"
      ],
      "metadata": {
        "colab": {
          "base_uri": "https://localhost:8080/"
        },
        "id": "MuKeeGOtT02C",
        "outputId": "8f15efe5-b817-4ce1-fc9d-082dcdc37b9e"
      },
      "execution_count": 23,
      "outputs": [
        {
          "output_type": "stream",
          "name": "stdout",
          "text": [
            "I think that the heart finds its deepest essence, something helpless that wants to break the law is actually present, whether or not being clear, exactly, but don't let anyone set restrictions on your knees and their feet on the other hand, produces beautiful things of earth we take our breath away!\n",
            "It's a funny movie and, as for the light filtering through me, in self-deluded darkness?\n",
            "What happens but once, says the things I shall be just a tool of regurgitation.\n",
            "Know that there is life.\n",
            "Dont struggle for life, and they are very effective oven mitts.\n",
            "I do nothing about him except that he respects and wants of another. Or travel to see you again,And when I messed up the kingdom of joy.Do not give all my life had he rushed to my own weaknesses, but when the things you care about. What mental turmoil and anxiety does any human power can give.\n",
            "While we try for who knows your heart, where the stakes are this high- when calling God by giving it alcohol.\n",
            "We are told that killed him. Or else they forgot their idea of a society of tall blades of grass and small animals are conscious, but each other carelessly; every point of view, is silence about truth.\n",
            "If we are in death. Until then, keep quiet about us,half out of life is to make some progess each day. So why don't you believe there is a way\n",
            "Thinking is hard work, and persistence.\n"
          ]
        }
      ]
    },
    {
      "cell_type": "markdown",
      "source": [
        "## Generating random quotes with Markov chain using 3 words defining a state in the quote:"
      ],
      "metadata": {
        "id": "JoWSPLFLGsDo"
      }
    },
    {
      "cell_type": "code",
      "source": [
        "text_model = markovify.NewlineText(inp.Quote, state_size = 3)"
      ],
      "metadata": {
        "id": "aoLKNhikPjOB"
      },
      "execution_count": 24,
      "outputs": []
    },
    {
      "cell_type": "code",
      "source": [
        "for i in range(10):\n",
        "    print(text_model.make_sentence())"
      ],
      "metadata": {
        "colab": {
          "base_uri": "https://localhost:8080/"
        },
        "id": "FzjsWkoCPoIV",
        "outputId": "f2211748-152a-46f6-8f11-453772c6b704"
      },
      "execution_count": 25,
      "outputs": [
        {
          "output_type": "stream",
          "name": "stdout",
          "text": [
            "The first rule is to keep its edge.\n",
            "Eccentricity is not, as some would believe, a form of madness. A benevolent one, sure, but madness all the same.\n",
            "I just thought I'd go back and do it well. Take the power to control your own life. Then, even the holiest of words are only words.\n",
            "Q & A The illness of a doctor is always worse than the suffering itself. And that no heart has ever wanted is you.\n",
            "The task of art today is to bring upon us an apocalypse of the Soul.\n",
            "The two most misused words in the book more than you love me, you will inflict as much pain on me as hard as he does.\n",
            "There was a time when I can have seconds.\n",
            "God isn't the son of Poseidon, you don't have a good hand.\n",
            "Sometimes we love with nothing more than a few moments as evolutionary time is measured, a juvenile species, a child of light’s wonderful secret— you return to the beauty of existence, and its only end.\n",
            "My Best Friend is a person who has just died.\n"
          ]
        }
      ]
    },
    {
      "cell_type": "code",
      "source": [
        "print(\"This code snippet has run successfully!\")"
      ],
      "metadata": {
        "colab": {
          "base_uri": "https://localhost:8080/"
        },
        "id": "6ZIMJI9BHy68",
        "outputId": "0b1def2a-0752-4ada-f9eb-896b94861629"
      },
      "execution_count": 26,
      "outputs": [
        {
          "output_type": "stream",
          "name": "stdout",
          "text": [
            "This code snippet has run successfully!\n"
          ]
        }
      ]
    }
  ]
}