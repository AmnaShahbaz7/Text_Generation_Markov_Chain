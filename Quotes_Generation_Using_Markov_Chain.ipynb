{
  "nbformat": 4,
  "nbformat_minor": 0,
  "metadata": {
    "colab": {
      "provenance": [],
      "authorship_tag": "ABX9TyP2ptVPEYGO4ajyvMOGz+0P",
      "include_colab_link": true
    },
    "kernelspec": {
      "name": "python3",
      "display_name": "Python 3"
    },
    "language_info": {
      "name": "python"
    }
  },
  "cells": [
    {
      "cell_type": "markdown",
      "metadata": {
        "id": "view-in-github",
        "colab_type": "text"
      },
      "source": [
        "<a href=\"https://colab.research.google.com/github/AmnaShahbaz7/Text_Generation_Markov_Chain/blob/main/Quotes_Generation_Using_Markov_Chain.ipynb\" target=\"_parent\"><img src=\"https://colab.research.google.com/assets/colab-badge.svg\" alt=\"Open In Colab\"/></a>"
      ]
    },
    {
      "cell_type": "markdown",
      "source": [
        "# Generation of Quotes using Markov chains \n",
        "## Advance Topics - Applied Data Science\n",
        "\n",
        "---\n",
        "\n",
        "\n",
        "### Supervised by Em. O. Univ.-Prof. Dr. Jürgen Pilz\n",
        "#### Author: Amna Shahbaz"
      ],
      "metadata": {
        "id": "sAeNcA1-CHIQ"
      }
    },
    {
      "cell_type": "markdown",
      "source": [
        "## Installation of markovify Python library:"
      ],
      "metadata": {
        "id": "UBxNjUUAEnqJ"
      }
    },
    {
      "cell_type": "code",
      "source": [
        "!pip install markovify"
      ],
      "metadata": {
        "colab": {
          "base_uri": "https://localhost:8080/"
        },
        "id": "owtLeVDzCHnD",
        "outputId": "de4b3d4c-2168-444f-e86f-8877b4ce63f0"
      },
      "execution_count": 1,
      "outputs": [
        {
          "output_type": "stream",
          "name": "stdout",
          "text": [
            "Looking in indexes: https://pypi.org/simple, https://us-python.pkg.dev/colab-wheels/public/simple/\n",
            "Collecting markovify\n",
            "  Downloading markovify-0.9.4.tar.gz (27 kB)\n",
            "  Preparing metadata (setup.py) ... \u001b[?25l\u001b[?25hdone\n",
            "Collecting unidecode\n",
            "  Downloading Unidecode-1.3.6-py3-none-any.whl (235 kB)\n",
            "\u001b[2K     \u001b[90m━━━━━━━━━━━━━━━━━━━━━━━━━━━━━━━━━━━━━━━\u001b[0m \u001b[32m235.9/235.9 KB\u001b[0m \u001b[31m4.8 MB/s\u001b[0m eta \u001b[36m0:00:00\u001b[0m\n",
            "\u001b[?25hBuilding wheels for collected packages: markovify\n",
            "  Building wheel for markovify (setup.py) ... \u001b[?25l\u001b[?25hdone\n",
            "  Created wheel for markovify: filename=markovify-0.9.4-py3-none-any.whl size=18627 sha256=d4f40980ebc28a4f0b8000cd65f442eddf3cc41a7e07a57384d152bcc2d1410a\n",
            "  Stored in directory: /root/.cache/pip/wheels/aa/9d/bb/96461cbfde2120f3612c7c2af202976d46542735a2cd8b00f8\n",
            "Successfully built markovify\n",
            "Installing collected packages: unidecode, markovify\n",
            "Successfully installed markovify-0.9.4 unidecode-1.3.6\n"
          ]
        }
      ]
    },
    {
      "cell_type": "markdown",
      "source": [
        "## Loaded needed libraries:"
      ],
      "metadata": {
        "id": "KdtGZojKE3Fh"
      }
    },
    {
      "cell_type": "code",
      "execution_count": 2,
      "metadata": {
        "id": "nHlXR5iXBw-u"
      },
      "outputs": [],
      "source": [
        "import numpy as np\n",
        "import pandas as pd\n",
        "import markovify\n",
        "import random"
      ]
    },
    {
      "cell_type": "markdown",
      "source": [
        "## Accessing the data from google drive:\n",
        "#### In this project the collection of 48391 quotes is used (in json file format), which is an open-source dataset published by Amit Mittal in Kaggle."
      ],
      "metadata": {
        "id": "yiRAw9kUE-k4"
      }
    },
    {
      "cell_type": "code",
      "source": [
        "from google.colab import drive\n",
        "drive.mount('/content/drive')"
      ],
      "metadata": {
        "colab": {
          "base_uri": "https://localhost:8080/"
        },
        "id": "Rww5zPrdCZhs",
        "outputId": "e055b7a3-edc2-420b-8c1a-2c51e8def89f"
      },
      "execution_count": 3,
      "outputs": [
        {
          "output_type": "stream",
          "name": "stdout",
          "text": [
            "Mounted at /content/drive\n"
          ]
        }
      ]
    },
    {
      "cell_type": "markdown",
      "source": [
        "## Defining the data path:"
      ],
      "metadata": {
        "id": "ICSHGQIgGJw4"
      }
    },
    {
      "cell_type": "code",
      "source": [
        "path=\"/content/drive/MyDrive/quotes.json\""
      ],
      "metadata": {
        "id": "1qAbSBIvCffm"
      },
      "execution_count": 4,
      "outputs": []
    },
    {
      "cell_type": "markdown",
      "source": [
        "## Quotes samples first 5 rows:"
      ],
      "metadata": {
        "id": "2_8G0Mo9GQDo"
      }
    },
    {
      "cell_type": "code",
      "source": [
        "inp = pd.read_json(path)\n",
        "inp.head(5)"
      ],
      "metadata": {
        "colab": {
          "base_uri": "https://localhost:8080/",
          "height": 206
        },
        "id": "CJF4lo28CBtl",
        "outputId": "e63cdfc5-137f-4af0-d6f9-81c8a6d34b72"
      },
      "execution_count": 5,
      "outputs": [
        {
          "output_type": "execute_result",
          "data": {
            "text/plain": [
              "                                               Quote          Author  \\\n",
              "0  Don't cry because it's over, smile because it ...       Dr. Seuss   \n",
              "1  Don't cry because it's over, smile because it ...       Dr. Seuss   \n",
              "2  I'm selfish, impatient and a little insecure. ...  Marilyn Monroe   \n",
              "3  I'm selfish, impatient and a little insecure. ...  Marilyn Monroe   \n",
              "4  I'm selfish, impatient and a little insecure. ...  Marilyn Monroe   \n",
              "\n",
              "                                                Tags  Popularity   Category  \n",
              "0  [attributed-no-source, cry, crying, experience...    0.155666       life  \n",
              "1  [attributed-no-source, cry, crying, experience...    0.155666  happiness  \n",
              "2  [attributed-no-source, best, life, love, mista...    0.129122       love  \n",
              "3  [attributed-no-source, best, life, love, mista...    0.129122       life  \n",
              "4  [attributed-no-source, best, life, love, mista...    0.129122      truth  "
            ],
            "text/html": [
              "\n",
              "  <div id=\"df-c00f584d-5433-4946-9608-f470137e34ad\">\n",
              "    <div class=\"colab-df-container\">\n",
              "      <div>\n",
              "<style scoped>\n",
              "    .dataframe tbody tr th:only-of-type {\n",
              "        vertical-align: middle;\n",
              "    }\n",
              "\n",
              "    .dataframe tbody tr th {\n",
              "        vertical-align: top;\n",
              "    }\n",
              "\n",
              "    .dataframe thead th {\n",
              "        text-align: right;\n",
              "    }\n",
              "</style>\n",
              "<table border=\"1\" class=\"dataframe\">\n",
              "  <thead>\n",
              "    <tr style=\"text-align: right;\">\n",
              "      <th></th>\n",
              "      <th>Quote</th>\n",
              "      <th>Author</th>\n",
              "      <th>Tags</th>\n",
              "      <th>Popularity</th>\n",
              "      <th>Category</th>\n",
              "    </tr>\n",
              "  </thead>\n",
              "  <tbody>\n",
              "    <tr>\n",
              "      <th>0</th>\n",
              "      <td>Don't cry because it's over, smile because it ...</td>\n",
              "      <td>Dr. Seuss</td>\n",
              "      <td>[attributed-no-source, cry, crying, experience...</td>\n",
              "      <td>0.155666</td>\n",
              "      <td>life</td>\n",
              "    </tr>\n",
              "    <tr>\n",
              "      <th>1</th>\n",
              "      <td>Don't cry because it's over, smile because it ...</td>\n",
              "      <td>Dr. Seuss</td>\n",
              "      <td>[attributed-no-source, cry, crying, experience...</td>\n",
              "      <td>0.155666</td>\n",
              "      <td>happiness</td>\n",
              "    </tr>\n",
              "    <tr>\n",
              "      <th>2</th>\n",
              "      <td>I'm selfish, impatient and a little insecure. ...</td>\n",
              "      <td>Marilyn Monroe</td>\n",
              "      <td>[attributed-no-source, best, life, love, mista...</td>\n",
              "      <td>0.129122</td>\n",
              "      <td>love</td>\n",
              "    </tr>\n",
              "    <tr>\n",
              "      <th>3</th>\n",
              "      <td>I'm selfish, impatient and a little insecure. ...</td>\n",
              "      <td>Marilyn Monroe</td>\n",
              "      <td>[attributed-no-source, best, life, love, mista...</td>\n",
              "      <td>0.129122</td>\n",
              "      <td>life</td>\n",
              "    </tr>\n",
              "    <tr>\n",
              "      <th>4</th>\n",
              "      <td>I'm selfish, impatient and a little insecure. ...</td>\n",
              "      <td>Marilyn Monroe</td>\n",
              "      <td>[attributed-no-source, best, life, love, mista...</td>\n",
              "      <td>0.129122</td>\n",
              "      <td>truth</td>\n",
              "    </tr>\n",
              "  </tbody>\n",
              "</table>\n",
              "</div>\n",
              "      <button class=\"colab-df-convert\" onclick=\"convertToInteractive('df-c00f584d-5433-4946-9608-f470137e34ad')\"\n",
              "              title=\"Convert this dataframe to an interactive table.\"\n",
              "              style=\"display:none;\">\n",
              "        \n",
              "  <svg xmlns=\"http://www.w3.org/2000/svg\" height=\"24px\"viewBox=\"0 0 24 24\"\n",
              "       width=\"24px\">\n",
              "    <path d=\"M0 0h24v24H0V0z\" fill=\"none\"/>\n",
              "    <path d=\"M18.56 5.44l.94 2.06.94-2.06 2.06-.94-2.06-.94-.94-2.06-.94 2.06-2.06.94zm-11 1L8.5 8.5l.94-2.06 2.06-.94-2.06-.94L8.5 2.5l-.94 2.06-2.06.94zm10 10l.94 2.06.94-2.06 2.06-.94-2.06-.94-.94-2.06-.94 2.06-2.06.94z\"/><path d=\"M17.41 7.96l-1.37-1.37c-.4-.4-.92-.59-1.43-.59-.52 0-1.04.2-1.43.59L10.3 9.45l-7.72 7.72c-.78.78-.78 2.05 0 2.83L4 21.41c.39.39.9.59 1.41.59.51 0 1.02-.2 1.41-.59l7.78-7.78 2.81-2.81c.8-.78.8-2.07 0-2.86zM5.41 20L4 18.59l7.72-7.72 1.47 1.35L5.41 20z\"/>\n",
              "  </svg>\n",
              "      </button>\n",
              "      \n",
              "  <style>\n",
              "    .colab-df-container {\n",
              "      display:flex;\n",
              "      flex-wrap:wrap;\n",
              "      gap: 12px;\n",
              "    }\n",
              "\n",
              "    .colab-df-convert {\n",
              "      background-color: #E8F0FE;\n",
              "      border: none;\n",
              "      border-radius: 50%;\n",
              "      cursor: pointer;\n",
              "      display: none;\n",
              "      fill: #1967D2;\n",
              "      height: 32px;\n",
              "      padding: 0 0 0 0;\n",
              "      width: 32px;\n",
              "    }\n",
              "\n",
              "    .colab-df-convert:hover {\n",
              "      background-color: #E2EBFA;\n",
              "      box-shadow: 0px 1px 2px rgba(60, 64, 67, 0.3), 0px 1px 3px 1px rgba(60, 64, 67, 0.15);\n",
              "      fill: #174EA6;\n",
              "    }\n",
              "\n",
              "    [theme=dark] .colab-df-convert {\n",
              "      background-color: #3B4455;\n",
              "      fill: #D2E3FC;\n",
              "    }\n",
              "\n",
              "    [theme=dark] .colab-df-convert:hover {\n",
              "      background-color: #434B5C;\n",
              "      box-shadow: 0px 1px 3px 1px rgba(0, 0, 0, 0.15);\n",
              "      filter: drop-shadow(0px 1px 2px rgba(0, 0, 0, 0.3));\n",
              "      fill: #FFFFFF;\n",
              "    }\n",
              "  </style>\n",
              "\n",
              "      <script>\n",
              "        const buttonEl =\n",
              "          document.querySelector('#df-c00f584d-5433-4946-9608-f470137e34ad button.colab-df-convert');\n",
              "        buttonEl.style.display =\n",
              "          google.colab.kernel.accessAllowed ? 'block' : 'none';\n",
              "\n",
              "        async function convertToInteractive(key) {\n",
              "          const element = document.querySelector('#df-c00f584d-5433-4946-9608-f470137e34ad');\n",
              "          const dataTable =\n",
              "            await google.colab.kernel.invokeFunction('convertToInteractive',\n",
              "                                                     [key], {});\n",
              "          if (!dataTable) return;\n",
              "\n",
              "          const docLinkHtml = 'Like what you see? Visit the ' +\n",
              "            '<a target=\"_blank\" href=https://colab.research.google.com/notebooks/data_table.ipynb>data table notebook</a>'\n",
              "            + ' to learn more about interactive tables.';\n",
              "          element.innerHTML = '';\n",
              "          dataTable['output_type'] = 'display_data';\n",
              "          await google.colab.output.renderOutput(dataTable, element);\n",
              "          const docLink = document.createElement('div');\n",
              "          docLink.innerHTML = docLinkHtml;\n",
              "          element.appendChild(docLink);\n",
              "        }\n",
              "      </script>\n",
              "    </div>\n",
              "  </div>\n",
              "  "
            ]
          },
          "metadata": {},
          "execution_count": 5
        }
      ]
    },
    {
      "cell_type": "markdown",
      "source": [
        "## Generated Random quote samples:"
      ],
      "metadata": {
        "id": "pVysxKpiGgRP"
      }
    },
    {
      "cell_type": "code",
      "source": [
        "inp.Quote[random.sample(range(100), 10)]"
      ],
      "metadata": {
        "id": "WAs2nP2kCvvS",
        "colab": {
          "base_uri": "https://localhost:8080/"
        },
        "outputId": "e7e9e5da-eb05-4b91-ae93-b9ac4d27176f"
      },
      "execution_count": 6,
      "outputs": [
        {
          "output_type": "execute_result",
          "data": {
            "text/plain": [
              "36    Darkness cannot drive out darkness: only light...\n",
              "91             Love all, trust a few, do wrong to none.\n",
              "82    I am enough of an artist to draw freely upon m...\n",
              "97    My thoughts are stars I cannot fathom into con...\n",
              "41    Insanity is doing the same thing, over and ove...\n",
              "76    The opposite of love is not hate, it's indiffe...\n",
              "16                       So many books, so little time.\n",
              "96    Being deeply loved by someone gives you streng...\n",
              "4     I'm selfish, impatient and a little insecure. ...\n",
              "51    All that is gold does not glitter,Not all thos...\n",
              "Name: Quote, dtype: object"
            ]
          },
          "metadata": {},
          "execution_count": 6
        }
      ]
    },
    {
      "cell_type": "markdown",
      "source": [
        "## Generating random quotes with Markov chain using 2 words defining a state in the quote:"
      ],
      "metadata": {
        "id": "BDpb4RUsR-54"
      }
    },
    {
      "cell_type": "code",
      "source": [
        "text_model2 = markovify.NewlineText(inp.Quote, state_size = 2)"
      ],
      "metadata": {
        "id": "dzZ1BJ6rR2W_"
      },
      "execution_count": 7,
      "outputs": []
    },
    {
      "cell_type": "markdown",
      "source": [
        "## The generated quotes from first model:"
      ],
      "metadata": {
        "id": "mku-oAsfS6rQ"
      }
    },
    {
      "cell_type": "code",
      "source": [
        "for i in range(10):\n",
        "    print(text_model2.make_sentence())"
      ],
      "metadata": {
        "colab": {
          "base_uri": "https://localhost:8080/"
        },
        "id": "WWCDiPNrSHBZ",
        "outputId": "b94e8282-67cc-4a94-d1d7-83ace87ab7f7"
      },
      "execution_count": 8,
      "outputs": [
        {
          "output_type": "stream",
          "name": "stdout",
          "text": [
            "I hope that would be a reflection of who you fall in love is rare, and even when they're not, they will not be zero-sum, and that you tried.\n",
            "Sometimes God allows us to which you are born, we live for, nothing ages like happiness.\n",
            "Humor reminds you, when you know what is righteous and what better motivation than to help us navigate the dangerous seas of human affairs, the lives we've touched.\n",
            "Everywhere is within reach if you let them fall in love, the greater truth is that you can't kissand make itbetter.\n",
            "When you have been always a combination of states we have those weapons that subdue it, the rest of us who we are here and now, for once, if they are there to stop tweeting for a candidate, unless he's been hiding.\n",
            "Flood of Feeling {Couplet} A flood of feeling good about their answers to every one. We can’t be found not only a man! You've not our darkness enlightened\n",
            "There are many things with which I am only passionately curious.\n",
            "There is no happiness in order to exceed the man who can pull me down the bus fare.\n",
            "Love is a series of images that change is of the bitch-goddess sucess is our last day you should also be a success, even though the world is cold, use bridges for firewood. And for all for those who don't see the humor in it, we would attribute to him who will; him who is afraid of death, it is too high to pay attention to what goes on to this state, he is not only had one call after another until its done. It's not about what day it is the place you're in.\n",
            "What seems to me, but I’m early to being wealthy. I'm just selective about the gesture. It might sound stupid, but it requires a leap of interest is lighted in the wild unexpectedly.\n"
          ]
        }
      ]
    },
    {
      "cell_type": "markdown",
      "source": [
        "## Generating random quotes with Marko chain using 2 words defining a state in the quote (second model in order to combine it with the first model):"
      ],
      "metadata": {
        "id": "QhkdPEx7TKKc"
      }
    },
    {
      "cell_type": "code",
      "source": [
        "text_model2_2 = markovify.NewlineText(inp.Quote, state_size = 2)"
      ],
      "metadata": {
        "id": "CR1wfApNSG_3"
      },
      "execution_count": 9,
      "outputs": []
    },
    {
      "cell_type": "code",
      "source": [
        "for i in range(10):\n",
        "    print(text_model2_2.make_sentence())"
      ],
      "metadata": {
        "colab": {
          "base_uri": "https://localhost:8080/"
        },
        "id": "iOUaty6nSGpN",
        "outputId": "15608931-4aa4-49ce-c132-59b410f31db2"
      },
      "execution_count": 10,
      "outputs": [
        {
          "output_type": "stream",
          "name": "stdout",
          "text": [
            "Your ordinary acts of love, justice, kindness, faith, and trust, and gratitude, then animals are treated with fairness, even kindness-- a world possibly not born here.\n",
            "Education is when he is a revolutionary stance, from the universe.\n",
            "To know much say little.\n",
            "I am and will change the things worth dying for.\n",
            "Someday you're gonna have to know about yourself. You got to do what you have attracted this situation into your life. All of the best tonic for mind and your life. Only at times, and I hope is like an equestrian, and I think if I've learned in art has ever been destroyed because its opposite is a very special blend of psychology are practically very clear election commitment and difference in the opposite of love is not even by the fire, take down this book, and you want to increase our comfort. That is your statement that all the time; but you begin anyway and see how I finally understood what true love know that meaning and value than solving it.\n",
            "Happiness will grow up until it’s gone, but the sight of the heart communes best when everything seems hopeless.\n",
            "I just...I just miss it. You believe in God. Yes, and it's the excuse.\n",
            "Knowledge is a belief that everyone's library contains an Odd Shelf. On this Valentine’s Day rent a poem that only those who wander are lost;The old that is something, wearing stripes with plaid comes easy.\n",
            "So that's what matters is what makes a success who has lived well, laughed often, and so on, but they will be because something has outlived its usefulness in one cup of tea about what to bury. I’ll probably hide all my life. I want to be a writer.\n",
            "Creative output, you know, this means war.\n"
          ]
        }
      ]
    },
    {
      "cell_type": "markdown",
      "source": [
        "## Combining first and second model which have 2 words defining a state:"
      ],
      "metadata": {
        "id": "J3JU8ZJ2T1W8"
      }
    },
    {
      "cell_type": "code",
      "source": [
        "model_combo = markovify.combine([ text_model2, text_model2_2 ], [ 1.5, 1 ])\n",
        "for i in range(10):\n",
        "    print(model_combo.make_sentence())"
      ],
      "metadata": {
        "colab": {
          "base_uri": "https://localhost:8080/"
        },
        "id": "MuKeeGOtT02C",
        "outputId": "26af54df-9138-4a92-ea46-b9ce6a6b6ba2"
      },
      "execution_count": 11,
      "outputs": [
        {
          "output_type": "stream",
          "name": "stdout",
          "text": [
            "Love is life. And next time you’re at the right time. And anyone who disagrees with you, even if it is not real to me than any other.\n",
            "How can you have to become acquainted with a pulp time warp.\n",
            "You don't want to encourage our hearts and to devise methods for understanding it are the ones that do not fall in love with yourself.\n",
            "Do you think that we know of no single formula for happiness:Reality divided by two.\n",
            "I wanted you to live your life where you have or how long it takes to fill up the vacancies of the other. Every morning, let us refrain, Let us love one another, because love is slavery. Ignorance is hardly unusual, Miss Davar. The longer you live, the weather in your Ziploc bag.\n",
            "You came from a really dark, rich, thick sense of humor, those things.\n",
            "What we are creatures of unalloyed self-interest. The terrible pain of losing you was David, and now I had sex with whatever modicum of grace and love never lies.\n",
            "Even for me to play a role model for your rose that makes me happier, more confident, and that's a problem. Peace and love you forever.\n",
            "I want them to places you must tell stories.\n",
            "The glory of friendship and association in several business ventures.\n"
          ]
        }
      ]
    },
    {
      "cell_type": "markdown",
      "source": [
        "## Generating random headlines with Markov chain using 3 words defining a state in the quote:"
      ],
      "metadata": {
        "id": "JoWSPLFLGsDo"
      }
    },
    {
      "cell_type": "code",
      "source": [
        "text_model = markovify.NewlineText(inp.Quote, state_size = 3)"
      ],
      "metadata": {
        "id": "aoLKNhikPjOB"
      },
      "execution_count": 12,
      "outputs": []
    },
    {
      "cell_type": "code",
      "source": [
        "for i in range(10):\n",
        "    print(text_model.make_sentence())"
      ],
      "metadata": {
        "colab": {
          "base_uri": "https://localhost:8080/"
        },
        "id": "FzjsWkoCPoIV",
        "outputId": "632e8c98-d3f5-47f7-c045-856f5ad112e0"
      },
      "execution_count": 13,
      "outputs": [
        {
          "output_type": "stream",
          "name": "stdout",
          "text": [
            "My arms are killing me. I didn't know how to belong to someone. People thought she was too young to understand.\n",
            "The comic is the perception of their enormous value.\n",
            "To fast track your business and your business in your mind.\n",
            "When I was growing up.\n",
            "I want to be sure that you are not your struggles, and you are meant to love you, you will be given wings to fly.\n",
            "As I have said many times - my father was so ignorant I could hardly stand to have the love we level across our lives.\n",
            "I ran three miles, staggered into the lobby, and took the elevator back to my room and he was in fact dead.\n",
            "The only thing about you that you think are really important aren't. But you need that process.\n",
            "Take faith, for example. For many people in our world, there is no path and leave a trail.\n",
            "Building art is a synthesis of life in our own souls.\n"
          ]
        }
      ]
    },
    {
      "cell_type": "code",
      "source": [
        "print(\"This code snippet has run successfully!\")"
      ],
      "metadata": {
        "colab": {
          "base_uri": "https://localhost:8080/"
        },
        "id": "6ZIMJI9BHy68",
        "outputId": "7155362d-698c-47ef-8386-5e39565adc0e"
      },
      "execution_count": 14,
      "outputs": [
        {
          "output_type": "stream",
          "name": "stdout",
          "text": [
            "This code snippet has run successfully!\n"
          ]
        }
      ]
    }
  ]
}