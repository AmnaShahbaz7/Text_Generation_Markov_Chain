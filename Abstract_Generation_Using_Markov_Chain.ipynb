{
  "nbformat": 4,
  "nbformat_minor": 0,
  "metadata": {
    "colab": {
      "provenance": [],
      "authorship_tag": "ABX9TyN1WgsMG5O7qWws4WoObN2S",
      "include_colab_link": true
    },
    "kernelspec": {
      "name": "python3",
      "display_name": "Python 3"
    },
    "language_info": {
      "name": "python"
    }
  },
  "cells": [
    {
      "cell_type": "markdown",
      "metadata": {
        "id": "view-in-github",
        "colab_type": "text"
      },
      "source": [
        "<a href=\"https://colab.research.google.com/github/AmnaShahbaz7/Text_Generation_Markov_Chain/blob/main/Abstract_Generation_Using_Markov_Chain.ipynb\" target=\"_parent\"><img src=\"https://colab.research.google.com/assets/colab-badge.svg\" alt=\"Open In Colab\"/></a>"
      ]
    },
    {
      "cell_type": "markdown",
      "source": [
        "# Markov chain generation of article abstracts\n",
        "## Advance Topics - Applied Data Science\n",
        "\n",
        "---\n",
        "\n",
        "\n",
        "### Supervised by Em. O. Univ.-Prof. Dr. Jürgen Pilz\n",
        "#### Author: Amna Shahbaz"
      ],
      "metadata": {
        "id": "sAeNcA1-CHIQ"
      }
    },
    {
      "cell_type": "markdown",
      "source": [
        "## Installation of markovify Python library:"
      ],
      "metadata": {
        "id": "UBxNjUUAEnqJ"
      }
    },
    {
      "cell_type": "code",
      "source": [
        "!pip install markovify"
      ],
      "metadata": {
        "colab": {
          "base_uri": "https://localhost:8080/"
        },
        "id": "owtLeVDzCHnD",
        "outputId": "b5d9b0e2-8cd6-4d13-8c1b-1ec953c24415"
      },
      "execution_count": null,
      "outputs": [
        {
          "output_type": "stream",
          "name": "stdout",
          "text": [
            "Looking in indexes: https://pypi.org/simple, https://us-python.pkg.dev/colab-wheels/public/simple/\n",
            "Collecting markovify\n",
            "  Downloading markovify-0.9.4.tar.gz (27 kB)\n",
            "  Preparing metadata (setup.py) ... \u001b[?25l\u001b[?25hdone\n",
            "Collecting unidecode\n",
            "  Downloading Unidecode-1.3.6-py3-none-any.whl (235 kB)\n",
            "\u001b[2K     \u001b[90m━━━━━━━━━━━━━━━━━━━━━━━━━━━━━━━━━━━━━━\u001b[0m \u001b[32m235.9/235.9 KB\u001b[0m \u001b[31m13.1 MB/s\u001b[0m eta \u001b[36m0:00:00\u001b[0m\n",
            "\u001b[?25hBuilding wheels for collected packages: markovify\n",
            "  Building wheel for markovify (setup.py) ... \u001b[?25l\u001b[?25hdone\n",
            "  Created wheel for markovify: filename=markovify-0.9.4-py3-none-any.whl size=18627 sha256=9cb3560f373c7d20a096e757e3f5c3312bb2742f8fc0a715f2b8608696ed918e\n",
            "  Stored in directory: /root/.cache/pip/wheels/aa/9d/bb/96461cbfde2120f3612c7c2af202976d46542735a2cd8b00f8\n",
            "Successfully built markovify\n",
            "Installing collected packages: unidecode, markovify\n",
            "Successfully installed markovify-0.9.4 unidecode-1.3.6\n"
          ]
        }
      ]
    },
    {
      "cell_type": "markdown",
      "source": [
        "## Loaded needed libraries:"
      ],
      "metadata": {
        "id": "KdtGZojKE3Fh"
      }
    },
    {
      "cell_type": "code",
      "execution_count": null,
      "metadata": {
        "id": "nHlXR5iXBw-u"
      },
      "outputs": [],
      "source": [
        "import numpy as np\n",
        "import pandas as pd\n",
        "import markovify"
      ]
    },
    {
      "cell_type": "markdown",
      "source": [
        "## Accessing data from google drive:\n",
        "#### In this project the collection of more than 31000 paper is used (in json file format), which is an open-source data published by Neel Shah in Kaggle."
      ],
      "metadata": {
        "id": "yiRAw9kUE-k4"
      }
    },
    {
      "cell_type": "code",
      "source": [
        "from google.colab import drive\n",
        "drive.mount('/content/drive')"
      ],
      "metadata": {
        "colab": {
          "base_uri": "https://localhost:8080/"
        },
        "id": "Rww5zPrdCZhs",
        "outputId": "36b15b46-e4da-45d1-a1b6-66fc5af883c9"
      },
      "execution_count": null,
      "outputs": [
        {
          "output_type": "stream",
          "name": "stdout",
          "text": [
            "Mounted at /content/drive\n"
          ]
        }
      ]
    },
    {
      "cell_type": "markdown",
      "source": [
        "## Defining the data path:"
      ],
      "metadata": {
        "id": "ICSHGQIgGJw4"
      }
    },
    {
      "cell_type": "code",
      "source": [
        "path=\"/content/drive/MyDrive/arxivData.json\""
      ],
      "metadata": {
        "id": "1qAbSBIvCffm"
      },
      "execution_count": null,
      "outputs": []
    },
    {
      "cell_type": "markdown",
      "source": [
        "## Concatenating the titles and abstract in new column:"
      ],
      "metadata": {
        "id": "2_8G0Mo9GQDo"
      }
    },
    {
      "cell_type": "code",
      "source": [
        "df = pd.read_json(path)\n",
        "df[\"all_text\"] = df[\"title\"] + \". \" + df[\"summary\"]\n",
        "df[\"all_text\"] = df[\"all_text\"].map(lambda x : x.replace(\"\\n\", \" \"))\n",
        "df.head(5)"
      ],
      "metadata": {
        "colab": {
          "base_uri": "https://localhost:8080/",
          "height": 337
        },
        "id": "CJF4lo28CBtl",
        "outputId": "f659c6db-965c-4c22-cc89-269063b3a24d"
      },
      "execution_count": null,
      "outputs": [
        {
          "output_type": "execute_result",
          "data": {
            "text/plain": [
              "                                              author  day            id  \\\n",
              "0  [{'name': 'Ahmed Osman'}, {'name': 'Wojciech S...    1  1802.00209v1   \n",
              "1  [{'name': 'Ji Young Lee'}, {'name': 'Franck De...   12  1603.03827v1   \n",
              "2  [{'name': 'Iulian Vlad Serban'}, {'name': 'Tim...    2  1606.00776v2   \n",
              "3  [{'name': 'Sebastian Ruder'}, {'name': 'Joachi...   23  1705.08142v2   \n",
              "4  [{'name': 'Iulian V. Serban'}, {'name': 'Chinn...    7  1709.02349v2   \n",
              "\n",
              "                                                link  month  \\\n",
              "0  [{'rel': 'alternate', 'href': 'http://arxiv.or...      2   \n",
              "1  [{'rel': 'alternate', 'href': 'http://arxiv.or...      3   \n",
              "2  [{'rel': 'alternate', 'href': 'http://arxiv.or...      6   \n",
              "3  [{'rel': 'alternate', 'href': 'http://arxiv.or...      5   \n",
              "4  [{'rel': 'alternate', 'href': 'http://arxiv.or...      9   \n",
              "\n",
              "                                             summary  \\\n",
              "0  We propose an architecture for VQA which utili...   \n",
              "1  Recent approaches based on artificial neural n...   \n",
              "2  We introduce the multiresolution recurrent neu...   \n",
              "3  Multi-task learning is motivated by the observ...   \n",
              "4  We present MILABOT: a deep reinforcement learn...   \n",
              "\n",
              "                                                 tag  \\\n",
              "0  [{'term': 'cs.AI', 'scheme': 'http://arxiv.org...   \n",
              "1  [{'term': 'cs.CL', 'scheme': 'http://arxiv.org...   \n",
              "2  [{'term': 'cs.CL', 'scheme': 'http://arxiv.org...   \n",
              "3  [{'term': 'stat.ML', 'scheme': 'http://arxiv.o...   \n",
              "4  [{'term': 'cs.CL', 'scheme': 'http://arxiv.org...   \n",
              "\n",
              "                                               title  year  \\\n",
              "0  Dual Recurrent Attention Units for Visual Ques...  2018   \n",
              "1  Sequential Short-Text Classification with Recu...  2016   \n",
              "2  Multiresolution Recurrent Neural Networks: An ...  2016   \n",
              "3  Learning what to share between loosely related...  2017   \n",
              "4              A Deep Reinforcement Learning Chatbot  2017   \n",
              "\n",
              "                                            all_text  \n",
              "0  Dual Recurrent Attention Units for Visual Ques...  \n",
              "1  Sequential Short-Text Classification with Recu...  \n",
              "2  Multiresolution Recurrent Neural Networks: An ...  \n",
              "3  Learning what to share between loosely related...  \n",
              "4  A Deep Reinforcement Learning Chatbot. We pres...  "
            ],
            "text/html": [
              "\n",
              "  <div id=\"df-819eb431-43e1-4a63-81f2-bff1e6e6b213\">\n",
              "    <div class=\"colab-df-container\">\n",
              "      <div>\n",
              "<style scoped>\n",
              "    .dataframe tbody tr th:only-of-type {\n",
              "        vertical-align: middle;\n",
              "    }\n",
              "\n",
              "    .dataframe tbody tr th {\n",
              "        vertical-align: top;\n",
              "    }\n",
              "\n",
              "    .dataframe thead th {\n",
              "        text-align: right;\n",
              "    }\n",
              "</style>\n",
              "<table border=\"1\" class=\"dataframe\">\n",
              "  <thead>\n",
              "    <tr style=\"text-align: right;\">\n",
              "      <th></th>\n",
              "      <th>author</th>\n",
              "      <th>day</th>\n",
              "      <th>id</th>\n",
              "      <th>link</th>\n",
              "      <th>month</th>\n",
              "      <th>summary</th>\n",
              "      <th>tag</th>\n",
              "      <th>title</th>\n",
              "      <th>year</th>\n",
              "      <th>all_text</th>\n",
              "    </tr>\n",
              "  </thead>\n",
              "  <tbody>\n",
              "    <tr>\n",
              "      <th>0</th>\n",
              "      <td>[{'name': 'Ahmed Osman'}, {'name': 'Wojciech S...</td>\n",
              "      <td>1</td>\n",
              "      <td>1802.00209v1</td>\n",
              "      <td>[{'rel': 'alternate', 'href': 'http://arxiv.or...</td>\n",
              "      <td>2</td>\n",
              "      <td>We propose an architecture for VQA which utili...</td>\n",
              "      <td>[{'term': 'cs.AI', 'scheme': 'http://arxiv.org...</td>\n",
              "      <td>Dual Recurrent Attention Units for Visual Ques...</td>\n",
              "      <td>2018</td>\n",
              "      <td>Dual Recurrent Attention Units for Visual Ques...</td>\n",
              "    </tr>\n",
              "    <tr>\n",
              "      <th>1</th>\n",
              "      <td>[{'name': 'Ji Young Lee'}, {'name': 'Franck De...</td>\n",
              "      <td>12</td>\n",
              "      <td>1603.03827v1</td>\n",
              "      <td>[{'rel': 'alternate', 'href': 'http://arxiv.or...</td>\n",
              "      <td>3</td>\n",
              "      <td>Recent approaches based on artificial neural n...</td>\n",
              "      <td>[{'term': 'cs.CL', 'scheme': 'http://arxiv.org...</td>\n",
              "      <td>Sequential Short-Text Classification with Recu...</td>\n",
              "      <td>2016</td>\n",
              "      <td>Sequential Short-Text Classification with Recu...</td>\n",
              "    </tr>\n",
              "    <tr>\n",
              "      <th>2</th>\n",
              "      <td>[{'name': 'Iulian Vlad Serban'}, {'name': 'Tim...</td>\n",
              "      <td>2</td>\n",
              "      <td>1606.00776v2</td>\n",
              "      <td>[{'rel': 'alternate', 'href': 'http://arxiv.or...</td>\n",
              "      <td>6</td>\n",
              "      <td>We introduce the multiresolution recurrent neu...</td>\n",
              "      <td>[{'term': 'cs.CL', 'scheme': 'http://arxiv.org...</td>\n",
              "      <td>Multiresolution Recurrent Neural Networks: An ...</td>\n",
              "      <td>2016</td>\n",
              "      <td>Multiresolution Recurrent Neural Networks: An ...</td>\n",
              "    </tr>\n",
              "    <tr>\n",
              "      <th>3</th>\n",
              "      <td>[{'name': 'Sebastian Ruder'}, {'name': 'Joachi...</td>\n",
              "      <td>23</td>\n",
              "      <td>1705.08142v2</td>\n",
              "      <td>[{'rel': 'alternate', 'href': 'http://arxiv.or...</td>\n",
              "      <td>5</td>\n",
              "      <td>Multi-task learning is motivated by the observ...</td>\n",
              "      <td>[{'term': 'stat.ML', 'scheme': 'http://arxiv.o...</td>\n",
              "      <td>Learning what to share between loosely related...</td>\n",
              "      <td>2017</td>\n",
              "      <td>Learning what to share between loosely related...</td>\n",
              "    </tr>\n",
              "    <tr>\n",
              "      <th>4</th>\n",
              "      <td>[{'name': 'Iulian V. Serban'}, {'name': 'Chinn...</td>\n",
              "      <td>7</td>\n",
              "      <td>1709.02349v2</td>\n",
              "      <td>[{'rel': 'alternate', 'href': 'http://arxiv.or...</td>\n",
              "      <td>9</td>\n",
              "      <td>We present MILABOT: a deep reinforcement learn...</td>\n",
              "      <td>[{'term': 'cs.CL', 'scheme': 'http://arxiv.org...</td>\n",
              "      <td>A Deep Reinforcement Learning Chatbot</td>\n",
              "      <td>2017</td>\n",
              "      <td>A Deep Reinforcement Learning Chatbot. We pres...</td>\n",
              "    </tr>\n",
              "  </tbody>\n",
              "</table>\n",
              "</div>\n",
              "      <button class=\"colab-df-convert\" onclick=\"convertToInteractive('df-819eb431-43e1-4a63-81f2-bff1e6e6b213')\"\n",
              "              title=\"Convert this dataframe to an interactive table.\"\n",
              "              style=\"display:none;\">\n",
              "        \n",
              "  <svg xmlns=\"http://www.w3.org/2000/svg\" height=\"24px\"viewBox=\"0 0 24 24\"\n",
              "       width=\"24px\">\n",
              "    <path d=\"M0 0h24v24H0V0z\" fill=\"none\"/>\n",
              "    <path d=\"M18.56 5.44l.94 2.06.94-2.06 2.06-.94-2.06-.94-.94-2.06-.94 2.06-2.06.94zm-11 1L8.5 8.5l.94-2.06 2.06-.94-2.06-.94L8.5 2.5l-.94 2.06-2.06.94zm10 10l.94 2.06.94-2.06 2.06-.94-2.06-.94-.94-2.06-.94 2.06-2.06.94z\"/><path d=\"M17.41 7.96l-1.37-1.37c-.4-.4-.92-.59-1.43-.59-.52 0-1.04.2-1.43.59L10.3 9.45l-7.72 7.72c-.78.78-.78 2.05 0 2.83L4 21.41c.39.39.9.59 1.41.59.51 0 1.02-.2 1.41-.59l7.78-7.78 2.81-2.81c.8-.78.8-2.07 0-2.86zM5.41 20L4 18.59l7.72-7.72 1.47 1.35L5.41 20z\"/>\n",
              "  </svg>\n",
              "      </button>\n",
              "      \n",
              "  <style>\n",
              "    .colab-df-container {\n",
              "      display:flex;\n",
              "      flex-wrap:wrap;\n",
              "      gap: 12px;\n",
              "    }\n",
              "\n",
              "    .colab-df-convert {\n",
              "      background-color: #E8F0FE;\n",
              "      border: none;\n",
              "      border-radius: 50%;\n",
              "      cursor: pointer;\n",
              "      display: none;\n",
              "      fill: #1967D2;\n",
              "      height: 32px;\n",
              "      padding: 0 0 0 0;\n",
              "      width: 32px;\n",
              "    }\n",
              "\n",
              "    .colab-df-convert:hover {\n",
              "      background-color: #E2EBFA;\n",
              "      box-shadow: 0px 1px 2px rgba(60, 64, 67, 0.3), 0px 1px 3px 1px rgba(60, 64, 67, 0.15);\n",
              "      fill: #174EA6;\n",
              "    }\n",
              "\n",
              "    [theme=dark] .colab-df-convert {\n",
              "      background-color: #3B4455;\n",
              "      fill: #D2E3FC;\n",
              "    }\n",
              "\n",
              "    [theme=dark] .colab-df-convert:hover {\n",
              "      background-color: #434B5C;\n",
              "      box-shadow: 0px 1px 3px 1px rgba(0, 0, 0, 0.15);\n",
              "      filter: drop-shadow(0px 1px 2px rgba(0, 0, 0, 0.3));\n",
              "      fill: #FFFFFF;\n",
              "    }\n",
              "  </style>\n",
              "\n",
              "      <script>\n",
              "        const buttonEl =\n",
              "          document.querySelector('#df-819eb431-43e1-4a63-81f2-bff1e6e6b213 button.colab-df-convert');\n",
              "        buttonEl.style.display =\n",
              "          google.colab.kernel.accessAllowed ? 'block' : 'none';\n",
              "\n",
              "        async function convertToInteractive(key) {\n",
              "          const element = document.querySelector('#df-819eb431-43e1-4a63-81f2-bff1e6e6b213');\n",
              "          const dataTable =\n",
              "            await google.colab.kernel.invokeFunction('convertToInteractive',\n",
              "                                                     [key], {});\n",
              "          if (!dataTable) return;\n",
              "\n",
              "          const docLinkHtml = 'Like what you see? Visit the ' +\n",
              "            '<a target=\"_blank\" href=https://colab.research.google.com/notebooks/data_table.ipynb>data table notebook</a>'\n",
              "            + ' to learn more about interactive tables.';\n",
              "          element.innerHTML = '';\n",
              "          dataTable['output_type'] = 'display_data';\n",
              "          await google.colab.output.renderOutput(dataTable, element);\n",
              "          const docLink = document.createElement('div');\n",
              "          docLink.innerHTML = docLinkHtml;\n",
              "          element.appendChild(docLink);\n",
              "        }\n",
              "      </script>\n",
              "    </div>\n",
              "  </div>\n",
              "  "
            ]
          },
          "metadata": {},
          "execution_count": 8
        }
      ]
    },
    {
      "cell_type": "markdown",
      "source": [
        "## Implementing the Markov chain model:"
      ],
      "metadata": {
        "id": "pVysxKpiGgRP"
      }
    },
    {
      "cell_type": "code",
      "source": [
        "STATE_SIZE = 2\n",
        "text_model = markovify.Text( df[\"all_text\"], state_size=STATE_SIZE)\n",
        "title_model = markovify.Text( df[\"title\"], state_size=STATE_SIZE)"
      ],
      "metadata": {
        "id": "WAs2nP2kCvvS"
      },
      "execution_count": null,
      "outputs": []
    },
    {
      "cell_type": "markdown",
      "source": [
        "## Generating abstract using random titles:"
      ],
      "metadata": {
        "id": "JoWSPLFLGsDo"
      }
    },
    {
      "cell_type": "markdown",
      "source": [
        "## 1. Abstract with 2 words defining a state in the text:"
      ],
      "metadata": {
        "id": "iLvMqzxdHOh3"
      }
    },
    {
      "cell_type": "code",
      "source": [
        "def findnth( str, char=\" \", n=2):\n",
        "\n",
        "    index_from_beg = 0\n",
        "    while n >= 1:\n",
        "        index = str.find( char)\n",
        "        str = str[index+1:]\n",
        "        index_from_beg += index + len(char)\n",
        "        n -= 1\n",
        "    return index_from_beg\n",
        "\n",
        "sample_size = 7\n",
        "successes = 0\n",
        "while successes < sample_size:\n",
        "    try:\n",
        "        _title = title_model.make_sentence()\n",
        "        _end_of_title = \" \".join( _title.split()[-STATE_SIZE:])\n",
        "\n",
        "\n",
        "        _abstract = text_model.make_sentence_with_start( _end_of_title)\n",
        "        \n",
        "\n",
        "        index = findnth( _abstract, \" \", 2)\n",
        "        _abstract = _abstract[index:]\n",
        "        _full_article_description = _title + \" \" + _abstract\n",
        "        print( _full_article_description, end=\"\\n\\n\")\n",
        "        successes += 1\n",
        "\n",
        "    except:\n",
        "        pass"
      ],
      "metadata": {
        "colab": {
          "base_uri": "https://localhost:8080/"
        },
        "id": "UBXPCNSwC6jQ",
        "outputId": "11cc3dcc-6ad6-4a18-86d3-c294f307c5c8"
      },
      "execution_count": null,
      "outputs": [
        {
          "output_type": "stream",
          "name": "stdout",
          "text": [
            "CM-GANs: Cross-modal Generative Adversarial Compression Artifact Removal for Real-Time Vehicle Detection in Untrimmed Videos.\n",
            "\n",
            "Real-time Convolutional Neural Network for Linear Full Reference Objective Quality Assessment in a Natural Language Processing Modules: A Recent Tool For Management of Normal distributions are a number of motion of the art.\n",
            "\n",
            "Do More Dropouts in Pool5 Feature Maps for Camera Invariant Color Constancy based on Functional Connectomes using a grammar of word frequencies and entropy of keys derived from this high-quality principle that allows them to triplets or other objects in the sense that a mapping from objects made out of the Ord's graph based representations considerably outperform the previous sentence or sentences show that our novel detection techniques proposed in recent years, yet it mainly focused on defining a distinct combination of various e-commerce applications typically rely on heavy extra computations.\n",
            "\n",
            "Possibilistic Answer Set Programming with a Fine-Grained Structured Representation of Documents in Building Industry.\n",
            "\n",
            "Predictive Entropy Search for Multi-Agent Systems are typically assumed that the proposed AVS-based approaches against the conventional maximum likelihood estimates from algorithms with niching.\n",
            "\n",
            "Automated Reasoning Using Possibilistic Logic: Semantics, Belief Revision in Nonmonotonic Reasoning as Information Compression Index.\n",
            "\n",
            "An Infinite Latent Feature Models is NP-Hard.\n",
            "\n"
          ]
        }
      ]
    },
    {
      "cell_type": "markdown",
      "source": [
        "## 2. Abstract with 3 words defining a state in the text:"
      ],
      "metadata": {
        "id": "hhEjc9puHVpg"
      }
    },
    {
      "cell_type": "code",
      "source": [
        "def findnth( str, char=\" \", n=3):\n",
        "\n",
        "    index_from_beg = 0\n",
        "    while n >= 1:\n",
        "        index = str.find( char)\n",
        "        str = str[index+1:]\n",
        "        index_from_beg += index + len(char)\n",
        "        n -= 1\n",
        "    return index_from_beg\n",
        "\n",
        "sample_size = 7\n",
        "successes = 0\n",
        "while successes < sample_size:\n",
        "    try:\n",
        "        _title = title_model.make_sentence()\n",
        "        _end_of_title = \" \".join( _title.split()[-STATE_SIZE:])\n",
        "\n",
        "\n",
        "        _abstract = text_model.make_sentence_with_start( _end_of_title)\n",
        "        \n",
        "\n",
        "        index = findnth( _abstract, \" \", 3)\n",
        "        _abstract = _abstract[index:]\n",
        "        _full_article_description = _title + \" \" + _abstract\n",
        "        print( _full_article_description, end=\"\\n\\n\")\n",
        "        successes += 1\n",
        "\n",
        "    except:\n",
        "        pass"
      ],
      "metadata": {
        "colab": {
          "base_uri": "https://localhost:8080/"
        },
        "id": "lGTZrfWDHKR1",
        "outputId": "004bf862-23b6-49eb-a115-cd025dc5a016"
      },
      "execution_count": null,
      "outputs": [
        {
          "output_type": "stream",
          "name": "stdout",
          "text": [
            "The Algebraic Combinatorial Approach for Spike-and-Slab Sparse Coding Modeling of Acoustic Models.\n",
            "\n",
            "Bayesian Sparse Tucker Models for Lexicon Extraction from Scientific Articles Topic Modeling and Forecasting.\n",
            "\n",
            "A Deep Learning of Probabilistic Rule-Based Expert Systems Built Using Different Uncertain Inference Models for Interpretable Classification, with Application to Learning User Preferences Probabilistic Logical Reasoning from these interactions.\n",
            "\n",
            "Estimation from Monocular Image Depth Estimation for Batch Hierarchical Reinforcement Learning and Forecasting with Autoregressive Recurrent Networks Resource Allocation for Crowdsourcing and Best-Worst Scaling.\n",
            "\n",
            "Markov random field model for the Weighted Nuclear Norm Regularization Deep Convolutional Embeddings for Sentence Completion.\n",
            "\n",
            "Classification of Iris Images using Progressive Holistically Nested Neural Networks in large data class to facilitate optimization.\n",
            "\n",
            "Attentional Network for Image Classification Segmentation Using an evolutionary algorithm with the coupling between the word does not accommodate this increasing demand.\n",
            "\n"
          ]
        }
      ]
    },
    {
      "cell_type": "markdown",
      "source": [
        "## 3. Abstract with 4 words defining a state in the text:"
      ],
      "metadata": {
        "id": "T33YliG-IPgS"
      }
    },
    {
      "cell_type": "code",
      "source": [
        "def findnth( str, char=\" \", n=4):\n",
        "\n",
        "    index_from_beg = 0\n",
        "    while n >= 1:\n",
        "        index = str.find( char)\n",
        "        str = str[index+1:]\n",
        "        index_from_beg += index + len(char)\n",
        "        n -= 1\n",
        "    return index_from_beg\n",
        "\n",
        "sample_size = 7\n",
        "successes = 0\n",
        "while successes < sample_size:\n",
        "    try:\n",
        "        _title = title_model.make_sentence()\n",
        "        _end_of_title = \" \".join( _title.split()[-STATE_SIZE:])\n",
        "\n",
        "\n",
        "        _abstract = text_model.make_sentence_with_start( _end_of_title)\n",
        "        \n",
        "\n",
        "        index = findnth( _abstract, \" \", 4)\n",
        "        _abstract = _abstract[index:]\n",
        "        _full_article_description = _title + \" \" + _abstract\n",
        "        print( _full_article_description, end=\"\\n\\n\")\n",
        "        successes += 1\n",
        "\n",
        "    except:\n",
        "        pass"
      ],
      "metadata": {
        "colab": {
          "base_uri": "https://localhost:8080/"
        },
        "id": "4L8FWgznHcHp",
        "outputId": "73046345-522b-4f90-d739-288642afd57f"
      },
      "execution_count": null,
      "outputs": [
        {
          "output_type": "stream",
          "name": "stdout",
          "text": [
            "Learning a Natural Language Inference have nonnegative entries.\n",
            "\n",
            "Acronym recognition and prediction technique for dynamic machine scheduling problems where obtaining a clear advantage over the time, compared with state-of-the-art contextual policy search in these sentence representations and deep learning approach for automatic estimation of G is drawn once for predicting dose from patient contours.\n",
            "\n",
            "e-Counterfeit: a mobile-server platform for symbolic data mining large environmental datasets for deep neural network the canonical CRO.\n",
            "\n",
            "Detecting Opinions in Mobile Robotics with the Weighted Item Layout Optimization Problem and Autonomous Systems.\n",
            "\n",
            "Topological characterizations to three types of fuzzy logic with importance sampling without replacement.\n",
            "\n",
            "Conditional Probability Tree Estimation Analysis and Log-Gabor Based Iris Encoders on Bath Iris Image Database for Evaluation of Methods for Scanner Drift Normalization Validated for Automatic Seizure Detection Video.\n",
            "\n",
            "Device Placement Optimization with Factor Graphs as Probabilistic Models Learning of Graph Laplacian.\n",
            "\n"
          ]
        }
      ]
    },
    {
      "cell_type": "code",
      "source": [
        "print(\"This code snippet has run successfully!\")"
      ],
      "metadata": {
        "colab": {
          "base_uri": "https://localhost:8080/"
        },
        "id": "6ZIMJI9BHy68",
        "outputId": "9294215a-71d6-4168-f47d-f1db5a924499"
      },
      "execution_count": null,
      "outputs": [
        {
          "output_type": "stream",
          "name": "stdout",
          "text": [
            "This code snippet has run successfully!\n"
          ]
        }
      ]
    }
  ]
}